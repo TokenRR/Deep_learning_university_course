{
 "cells": [
  {
   "cell_type": "markdown",
   "metadata": {},
   "source": [
    "# КМ-01, Іваник Юрій, Лаб 3"
   ]
  },
  {
   "cell_type": "markdown",
   "metadata": {},
   "source": [
    "### Імпортуємо бібліотеки"
   ]
  },
  {
   "cell_type": "code",
   "execution_count": 1,
   "metadata": {},
   "outputs": [],
   "source": [
    "import numpy as np\n",
    "import pandas as pd\n",
    "import seaborn as sns\n",
    "import matplotlib.pyplot as plt\n",
    "from sklearn.preprocessing import MinMaxScaler\n",
    "from sklearn.model_selection import train_test_split\n",
    "from sklearn.metrics import accuracy_score, precision_score, recall_score, f1_score, confusion_matrix"
   ]
  },
  {
   "cell_type": "markdown",
   "metadata": {},
   "source": [
    "### Завантажимо датасет NSL-KDD"
   ]
  },
  {
   "cell_type": "code",
   "execution_count": 2,
   "metadata": {},
   "outputs": [],
   "source": [
    "train_data = pd.read_csv('KDDTrain+.txt')\n",
    "test_data = pd.read_csv('KDDTest+.txt')"
   ]
  },
  {
   "cell_type": "markdown",
   "metadata": {},
   "source": [
    "### Даємо назви колонкам у датафреймі"
   ]
  },
  {
   "cell_type": "code",
   "execution_count": 3,
   "metadata": {},
   "outputs": [],
   "source": [
    "columns = (['duration','protocol_type','service','flag','src_bytes','dst_bytes','land','wrong_fragment','urgent','hot',\n",
    "            'num_failed_logins','logged_in','num_compromised','root_shell','su_attempted','num_root',\n",
    "            'num_file_creations','num_shells','num_access_files','num_outbound_cmds','is_host_login','is_guest_login',\n",
    "            'count','srv_count','serror_rate','srv_serror_rate','rerror_rate','srv_rerror_rate','same_srv_rate',\n",
    "            'diff_srv_rate','srv_diff_host_rate','dst_host_count','dst_host_srv_count','dst_host_same_srv_rate',\n",
    "            'dst_host_diff_srv_rate','dst_host_same_src_port_rate','dst_host_srv_diff_host_rate','dst_host_serror_rate',\n",
    "            'dst_host_srv_serror_rate','dst_host_rerror_rate','dst_host_srv_rerror_rate','attack','level'])\n",
    "\n",
    "train_data.columns = columns\n",
    "test_data.columns = columns"
   ]
  },
  {
   "cell_type": "markdown",
   "metadata": {},
   "source": [
    "### Об'єднюємо датасети -> Залишаємо лише `guess_passwd` та `normal` -> 75 % - навчання, 25 % тест"
   ]
  },
  {
   "cell_type": "code",
   "execution_count": 4,
   "metadata": {},
   "outputs": [
    {
     "name": "stdout",
     "output_type": "stream",
     "text": [
      "Розмір навчального набору: 58752\n",
      "Розмір тестового набору:   19585\n"
     ]
    }
   ],
   "source": [
    "# Поєднання двох датафреймів\n",
    "combined_data = pd.concat([train_data, test_data], axis=0)\n",
    "\n",
    "# Розділення за типом атаки\n",
    "attack_data = combined_data[combined_data['attack'] == 'guess_passwd']\n",
    "normal_data = combined_data[combined_data['attack'] == 'normal']\n",
    "\n",
    "# Розбиття на навчальний та тестовий набір\n",
    "train_attack, test_attack = train_test_split(attack_data, test_size=0.25, random_state=42)\n",
    "train_normal, test_normal = train_test_split(normal_data, test_size=0.25, random_state=42)\n",
    "\n",
    "# Об'єднання навчальних та тестових наборів\n",
    "train_data = pd.concat([train_attack, train_normal], axis=0)\n",
    "test_data = pd.concat([test_attack, test_normal], axis=0)\n",
    "\n",
    "# Виведення розмірів навчального та тестового наборів\n",
    "print(f'Розмір навчального набору: {train_data.shape[0]}')\n",
    "print(f'Розмір тестового набору:   {test_data.shape[0]}')"
   ]
  },
  {
   "cell_type": "markdown",
   "metadata": {},
   "source": [
    "### Перевіримо кількість записів які містять тип атаки 'guess_passwd' або 'normal'"
   ]
  },
  {
   "cell_type": "code",
   "execution_count": 5,
   "metadata": {},
   "outputs": [
    {
     "name": "stdout",
     "output_type": "stream",
     "text": [
      "Кількість записів із 'guess_passwd' у навчальному наборі : 963\n",
      "Кількість записів із 'guess_passwd' у тестовому наборі   : 321\n",
      "Кількість записів із 'normal'       у навчальному наборі : 57789\n",
      "Кількість записів із 'normal'       у тестовому наборі   : 19264\n"
     ]
    }
   ],
   "source": [
    "count_train_guess_pass = (train_data['attack'] == 'guess_passwd').sum()\n",
    "count_test_guess_pass = (test_data['attack'] == 'guess_passwd').sum()\n",
    "count_train_normal = (train_data['attack'] == 'normal').sum()\n",
    "count_test_normal = (test_data['attack'] == 'normal').sum()\n",
    "\n",
    "print(f\"Кількість записів із 'guess_passwd' у навчальному наборі : {count_train_guess_pass}\")\n",
    "print(f\"Кількість записів із 'guess_passwd' у тестовому наборі   : {count_test_guess_pass}\")\n",
    "print(f\"Кількість записів із 'normal'       у навчальному наборі : {count_train_normal}\")\n",
    "print(f\"Кількість записів із 'normal'       у тестовому наборі   : {count_test_normal}\")"
   ]
  },
  {
   "cell_type": "markdown",
   "metadata": {},
   "source": [
    "### Перекодуємо категорійні значення"
   ]
  },
  {
   "cell_type": "code",
   "execution_count": 6,
   "metadata": {},
   "outputs": [],
   "source": [
    "# Використання one-hot encoding для категорійних змінних\n",
    "filtered_train_data = pd.get_dummies(train_data, drop_first=True)\n",
    "filtered_test_data  = pd.get_dummies(test_data,  drop_first=True)"
   ]
  },
  {
   "cell_type": "markdown",
   "metadata": {},
   "source": [
    "### Перевіримо чи співпадають назви колонок та їх кількість\n",
    "Це важливо оскільки ми передаємо ці значення в нейронну мережу"
   ]
  },
  {
   "cell_type": "code",
   "execution_count": 7,
   "metadata": {},
   "outputs": [
    {
     "name": "stdout",
     "output_type": "stream",
     "text": [
      "Колонок у 'filtered_train_data': 78\n",
      "Колонок у 'filtered_test_data':  76\n",
      "Кількість спільних колонок: 75\n",
      "\n",
      "Унікальні колонки в filtered_train_data: \n",
      "{'flag_RSTOS0', 'flag_SH', 'service_link'}\n",
      "\n",
      "Унікальні колонки в filtered_test_data: \n",
      "{'service_remote_job'}\n"
     ]
    }
   ],
   "source": [
    "print(f'Колонок у \\'filtered_train_data\\': {filtered_train_data.shape[1]}')\n",
    "print(f'Колонок у \\'filtered_test_data\\':  {filtered_test_data.shape[1]}')\n",
    "\n",
    "# Отримання назв колонок для обох датафреймів\n",
    "columns_train = set(filtered_train_data.columns)\n",
    "columns_test = set(filtered_test_data.columns)\n",
    "\n",
    "# Знаходження спільних назв колонок\n",
    "common_columns = columns_train.intersection(columns_test)\n",
    "\n",
    "# Виведення назв та кількості спільних колонок\n",
    "print('Кількість спільних колонок:', len(common_columns))\n",
    "\n",
    "# Знаходження унікальних колонок у кожному датафреймі\n",
    "unique_columns_train = columns_train.difference(columns_test)\n",
    "unique_columns_test = columns_test.difference(columns_train)\n",
    "\n",
    "# Виведення назв унікальних колонок у кожному датафреймі\n",
    "print(f'\\nУнікальні колонки в filtered_train_data: \\n{unique_columns_train}')\n",
    "print(f'\\nУнікальні колонки в filtered_test_data: \\n{unique_columns_test}')"
   ]
  },
  {
   "cell_type": "markdown",
   "metadata": {},
   "source": [
    "### Подивимось наскільки багато цих даних і чи можемо ми їх позбутися"
   ]
  },
  {
   "cell_type": "code",
   "execution_count": 8,
   "metadata": {},
   "outputs": [
    {
     "name": "stdout",
     "output_type": "stream",
     "text": [
      "Кількість записів із 'link'       у навчальному наборі: 1\n",
      "Кількість записів із 'SH'         у навчальному наборі: 2\n",
      "Кількість записів із 'RSTOS0'     у навчальному наборі: 1\n",
      "Кількість записів із 'remote_job' у тестовому   наборі: 1\n"
     ]
    }
   ],
   "source": [
    "service_link = (train_data['service'] == 'link').sum()\n",
    "flag_SH = (train_data['flag'] == 'SH').sum()\n",
    "flag_RSTOS0 = (train_data['flag'] == 'RSTOS0').sum()\n",
    "\n",
    "service_remote_job = (test_data['service'] == 'remote_job').sum()\n",
    "\n",
    "\n",
    "print(f\"Кількість записів із 'link'       у навчальному наборі: {service_link}\")\n",
    "print(f\"Кількість записів із 'SH'         у навчальному наборі: {flag_SH}\")\n",
    "print(f\"Кількість записів із 'RSTOS0'     у навчальному наборі: {flag_RSTOS0}\")\n",
    "print(f\"Кількість записів із 'remote_job' у тестовому   наборі: {service_remote_job}\")"
   ]
  },
  {
   "cell_type": "markdown",
   "metadata": {},
   "source": [
    "### Видаляємо дані\n",
    "Тренувальний датасет містить більше 58 тис. даних, а тестовий датасет 19 тис.  \n",
    "Тому видалення такої кількості даних не повинно сильно вплинути на результати досліджень "
   ]
  },
  {
   "cell_type": "code",
   "execution_count": 9,
   "metadata": {},
   "outputs": [],
   "source": [
    "train_data = train_data[(train_data['service'] != 'link') &\n",
    "                        (train_data['flag'] != 'SH') &\n",
    "                        (train_data['flag'] != 'RSTOS0')]\n",
    "\n",
    "test_data = test_data[(test_data['service'] != 'remote_job')]"
   ]
  },
  {
   "cell_type": "markdown",
   "metadata": {},
   "source": [
    "### Перевіримо чи зараз співпадають назви та кількість колонок"
   ]
  },
  {
   "cell_type": "code",
   "execution_count": 10,
   "metadata": {},
   "outputs": [],
   "source": [
    "# Розділення 'attack' від інших змінних\n",
    "attacks_train = train_data[['attack']]\n",
    "attacks_test = test_data[['attack']]\n",
    "\n",
    "# Видалення 'attack' з оригінального набору даних\n",
    "train_data = train_data.drop(columns=['attack'])\n",
    "test_data = test_data.drop(columns=['attack'])\n",
    "\n",
    "# Перекодування за допомогою pd.get_dummies() для інших змінних\n",
    "filtered_train_data = pd.get_dummies(train_data, drop_first=True)\n",
    "filtered_test_data = pd.get_dummies(test_data,  drop_first=True)\n",
    "\n",
    "# Додавання нового стовпця 'attack_guess_passwd'\n",
    "filtered_train_data['attack_guess_passwd'] = attacks_train['attack'].map(lambda x: 1.0 if x == 'guess_passwd' else 0.0)\n",
    "filtered_test_data['attack_guess_passwd'] = attacks_test['attack'].map(lambda x: 1.0 if x == 'guess_passwd' else 0.0)"
   ]
  },
  {
   "cell_type": "code",
   "execution_count": 11,
   "metadata": {},
   "outputs": [
    {
     "name": "stdout",
     "output_type": "stream",
     "text": [
      "Колонок у 'filtered_train_data': 75\n",
      "Колонок у 'filtered_test_data':  75\n",
      "Кількість спільних колонок: \t 75\n"
     ]
    }
   ],
   "source": [
    "print(f'Колонок у \\'filtered_train_data\\': {filtered_train_data.shape[1]}')\n",
    "print(f'Колонок у \\'filtered_test_data\\':  {filtered_test_data.shape[1]}')\n",
    "\n",
    "# Отримання назв колонок для обох датафреймів\n",
    "columns_train = set(filtered_train_data.columns)\n",
    "columns_test = set(filtered_test_data.columns)\n",
    "\n",
    "# Знаходження спільних назв колонок\n",
    "common_columns = columns_train.intersection(columns_test)\n",
    "\n",
    "# Виведення назв та кількості спільних колонок\n",
    "print(f'Кількість спільних колонок: \\t {len(common_columns)}')"
   ]
  },
  {
   "cell_type": "markdown",
   "metadata": {},
   "source": [
    "### Для коректної роботи НМ треба нормалізувати дані"
   ]
  },
  {
   "cell_type": "code",
   "execution_count": 12,
   "metadata": {},
   "outputs": [],
   "source": [
    "scaler = MinMaxScaler()\n",
    "\n",
    "new_columns = filtered_train_data.columns\n",
    "\n",
    "filtered_train_data[new_columns] = scaler.fit_transform(filtered_train_data[new_columns])\n",
    "filtered_test_data[new_columns] = scaler.transform(filtered_test_data[new_columns])"
   ]
  },
  {
   "cell_type": "markdown",
   "metadata": {},
   "source": [
    "### Створюємо клас ймовірнісної нейронної мережі (PNN)"
   ]
  },
  {
   "cell_type": "code",
   "execution_count": 13,
   "metadata": {},
   "outputs": [],
   "source": [
    "class PNN:\n",
    "    def __init__(self, input_size, output_size):\n",
    "        self.input_size = input_size\n",
    "        self.output_size = output_size\n",
    "        self.mean_vectors = None\n",
    "        self.sigma = None\n",
    "        self.weights = None\n",
    "\n",
    "\n",
    "    def train(self, X, y, sigma=1.0):\n",
    "        self.mean_vectors = []\n",
    "        self.sigma = sigma\n",
    "\n",
    "        # Обчислюємо середні вектори для кожного класу\n",
    "        for class_label in range(self.output_size):\n",
    "            class_samples = X[y == class_label]\n",
    "            mean_vector = np.mean(class_samples, axis=0)\n",
    "            self.mean_vectors.append(mean_vector)\n",
    "\n",
    "        self.mean_vectors = np.array(self.mean_vectors)\n",
    "\n",
    "        # Обчислюємо ваги для кожного класу\n",
    "        self.weights = np.ones(self.output_size) / self.output_size\n",
    "\n",
    "\n",
    "    def predict(self, X):\n",
    "        predictions = []\n",
    "\n",
    "        for sample in X:\n",
    "            probabilities = []\n",
    "\n",
    "            # Розраховуємо ймовірності для кожного класу\n",
    "            for class_label in range(self.output_size):\n",
    "                mean_vector = self.mean_vectors[class_label]\n",
    "                sample = sample.astype(float)\n",
    "                activation = np.exp(-0.5 * np.sum((sample - mean_vector) ** 2) / (self.sigma ** 2))\n",
    "                probability = activation * self.weights[class_label]\n",
    "                probabilities.append(probability)\n",
    "\n",
    "            # Визначаємо клас з найвищою ймовірністю\n",
    "            predicted_class = np.argmax(probabilities)\n",
    "            predictions.append(predicted_class)\n",
    "\n",
    "        return np.array(predictions)"
   ]
  },
  {
   "cell_type": "markdown",
   "metadata": {},
   "source": [
    "### Розділимо датафрейми `filtered_train_data` та `filtered_test_data` на X_train, X_test, y_train, y_test"
   ]
  },
  {
   "cell_type": "code",
   "execution_count": 14,
   "metadata": {},
   "outputs": [],
   "source": [
    "X_train = filtered_train_data.drop(columns=['attack_guess_passwd'])\n",
    "y_train = filtered_train_data['attack_guess_passwd']\n",
    "\n",
    "X_test = filtered_test_data.drop(columns=['attack_guess_passwd'])\n",
    "y_test = filtered_test_data['attack_guess_passwd']"
   ]
  },
  {
   "cell_type": "markdown",
   "metadata": {},
   "source": [
    "### Ініціалізуємо модель PNN"
   ]
  },
  {
   "cell_type": "code",
   "execution_count": 15,
   "metadata": {},
   "outputs": [],
   "source": [
    "input_size = train_data.shape[1]\n",
    "output_size = 2  # розмірність вихідного шару (два класи: guess_passwd та normal)\n",
    "\n",
    "pnn = PNN(input_size, output_size)"
   ]
  },
  {
   "cell_type": "markdown",
   "metadata": {},
   "source": [
    "### Навчання PNN"
   ]
  },
  {
   "cell_type": "code",
   "execution_count": 16,
   "metadata": {},
   "outputs": [],
   "source": [
    "pnn.train(X_train, y_train, sigma=1.0)"
   ]
  },
  {
   "cell_type": "markdown",
   "metadata": {},
   "source": [
    "### Використання PNN"
   ]
  },
  {
   "cell_type": "code",
   "execution_count": 17,
   "metadata": {},
   "outputs": [],
   "source": [
    "predictions = pnn.predict(X_test.values)"
   ]
  },
  {
   "cell_type": "markdown",
   "metadata": {},
   "source": [
    "### Знайдемо метрики, щоб зрозуміти наскільки хороших результатів було досягнуто"
   ]
  },
  {
   "cell_type": "code",
   "execution_count": 18,
   "metadata": {},
   "outputs": [
    {
     "name": "stdout",
     "output_type": "stream",
     "text": [
      "Accuracy (Точність) : 93.55596 %\n",
      "Precision (Точність): 20.27795 %\n",
      "Recall (Повнота)    : 100.0 %\n",
      "F1 Score (F-міра)   : 33.71849 %\n"
     ]
    }
   ],
   "source": [
    "y_true = y_test\n",
    "accuracy = accuracy_score(y_true, predictions)\n",
    "precision = precision_score(y_true, predictions)\n",
    "recall = recall_score(y_true, predictions)\n",
    "f1 = f1_score(y_true, predictions)\n",
    "\n",
    "print(f\"Accuracy (Точність) : {round(accuracy * 100, 5)} %\")\n",
    "print(f\"Precision (Точність): {round(precision * 100, 5)} %\")\n",
    "print(f\"Recall (Повнота)    : {round(recall * 100, 5)} %\")\n",
    "print(f\"F1 Score (F-міра)   : {round(f1 * 100, 5)} %\")"
   ]
  },
  {
   "cell_type": "markdown",
   "metadata": {},
   "source": [
    "### Побудуємо теплову карту з результатами дослідження"
   ]
  },
  {
   "cell_type": "code",
   "execution_count": 19,
   "metadata": {},
   "outputs": [
    {
     "data": {
      "image/png": "[encoded data removed]",
      "text/plain": [
       "<Figure size 640x480 with 2 Axes>"
      ]
     },
     "metadata": {},
     "output_type": "display_data"
    }
   ],
   "source": [
    "cm = confusion_matrix(y_true, predictions)\n",
    "sns.heatmap(cm, annot=True, fmt=\"d\", cmap=\"Oranges\",\n",
    "            xticklabels=['normal', 'guess_passwd'], yticklabels=['normal', 'guess_passwd'])\n",
    "plt.xlabel(\"\\nPredicted Label\")\n",
    "plt.ylabel(\"True Label\\n\")\n",
    "plt.show()"
   ]
  }
 ],
 "metadata": {
  "kernelspec": {
   "display_name": ".venv",
   "language": "python",
   "name": "python3"
  },
  "language_info": {
   "codemirror_mode": {
    "name": "ipython",
    "version": 3
   },
   "file_extension": ".py",
   "mimetype": "text/x-python",
   "name": "python",
   "nbconvert_exporter": "python",
   "pygments_lexer": "ipython3",
   "version": "3.11.3"
  }
 },
 "nbformat": 4,
 "nbformat_minor": 2
}

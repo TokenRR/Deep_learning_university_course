{
 "cells": [
  {
   "cell_type": "markdown",
   "metadata": {},
   "source": [
    "# КМ-01, Іваник Юрій, Лаб 4"
   ]
  },
  {
   "cell_type": "markdown",
   "metadata": {},
   "source": [
    "### Імпортуємо бібліотеки"
   ]
  },
  {
   "cell_type": "code",
   "execution_count": 5,
   "metadata": {},
   "outputs": [],
   "source": [
    "import numpy as np\n",
    "import tensorflow as tf\n",
    "from keras import layers, models\n",
    "from keras.optimizers import SGD \n",
    "from keras.datasets import cifar10\n",
    "from keras.utils import to_categorical\n",
    "from sklearn.model_selection import train_test_split\n",
    "from sklearn.metrics import precision_score, recall_score, f1_score"
   ]
  },
  {
   "cell_type": "markdown",
   "metadata": {},
   "source": [
    "### Завантажимо дані"
   ]
  },
  {
   "cell_type": "code",
   "execution_count": 6,
   "metadata": {},
   "outputs": [
    {
     "name": "stdout",
     "output_type": "stream",
     "text": [
      "Кількість записів у навчальному наборі:   50000\n",
      "Кількість записів у тестовому наборі:     5000\n",
      "Кількість записів у валідаційному наборі: 5000\n"
     ]
    }
   ],
   "source": [
    "batch_size = 32\n",
    "\n",
    "(X_train, y_train), (X_test, y_test) = cifar10.load_data()\n",
    "\n",
    "X_train = X_train / 255.0 \n",
    "X_test  = X_test / 255.0 \n",
    "\n",
    "y_train = to_categorical(y_train, 10)\n",
    "y_test  = to_categorical(y_test,  10)\n",
    "\n",
    "X_test, X_val, y_test, y_val = train_test_split(X_test, y_test, test_size=0.5, random_state=42)\n",
    "\n",
    "print(f'Кількість записів у навчальному наборі:   {len(X_train)}')\n",
    "print(f'Кількість записів у тестовому наборі:     {len(X_test)}')\n",
    "print(f'Кількість записів у валідаційному наборі: {len(X_val)}')"
   ]
  },
  {
   "cell_type": "markdown",
   "metadata": {},
   "source": [
    "### Створимо структуру моделі CNN"
   ]
  },
  {
   "cell_type": "code",
   "execution_count": 7,
   "metadata": {},
   "outputs": [],
   "source": [
    "model = models.Sequential()\n",
    "\n",
    "# Додавання згорткових шарів та шарів пулінгу\n",
    "model.add(layers.Conv2D(32, (3, 3), activation='relu', input_shape=(32, 32, 3)))\n",
    "model.add(layers.MaxPooling2D((2, 2)))\n",
    "model.add(layers.Dropout(0.25))  # Додаємо Dropout\n",
    "\n",
    "model.add(layers.Conv2D(64, (3, 3), activation='relu'))\n",
    "model.add(layers.MaxPooling2D((2, 2)))\n",
    "model.add(layers.Dropout(0.25))  # Додаємо Dropout\n",
    "\n",
    "model.add(layers.Conv2D(64, (3, 3), activation='relu'))\n",
    "\n",
    "# Додавання повнозв'язних шарів\n",
    "model.add(layers.Flatten())\n",
    "model.add(layers.Dense(64, activation='relu'))\n",
    "model.add(layers.Dropout(0.5))  # Додаємо Dropout\n",
    "model.add(layers.Dense(10, activation='softmax'))  # 10 класів виводу\n",
    "\n",
    "# Компіляція моделі\n",
    "sgd = SGD(learning_rate=0.01, momentum=0.9, nesterov=True)\n",
    "model.compile(optimizer=sgd,\n",
    "              loss='categorical_crossentropy',\n",
    "              metrics=['accuracy'])"
   ]
  },
  {
   "cell_type": "markdown",
   "metadata": {},
   "source": [
    "### Навчаємо модель"
   ]
  },
  {
   "cell_type": "code",
   "execution_count": 8,
   "metadata": {},
   "outputs": [
    {
     "name": "stdout",
     "output_type": "stream",
     "text": [
      "Epoch 1/25\n",
      "1563/1563 [==============================] - 61s 37ms/step - loss: 1.8561 - accuracy: 0.3091 - val_loss: 1.5019 - val_accuracy: 0.4470\n",
      "Epoch 2/25\n",
      "1563/1563 [==============================] - 57s 37ms/step - loss: 1.5387 - accuracy: 0.4395 - val_loss: 1.3889 - val_accuracy: 0.5162\n",
      "Epoch 3/25\n",
      "1563/1563 [==============================] - 55s 35ms/step - loss: 1.4094 - accuracy: 0.4912 - val_loss: 1.3174 - val_accuracy: 0.5264\n",
      "Epoch 4/25\n",
      "1563/1563 [==============================] - 55s 35ms/step - loss: 1.3311 - accuracy: 0.5239 - val_loss: 1.2609 - val_accuracy: 0.5534\n",
      "Epoch 5/25\n",
      "1563/1563 [==============================] - 56s 36ms/step - loss: 1.2753 - accuracy: 0.5482 - val_loss: 1.1930 - val_accuracy: 0.5766\n",
      "Epoch 6/25\n",
      "1563/1563 [==============================] - 58s 37ms/step - loss: 1.2253 - accuracy: 0.5695 - val_loss: 1.1991 - val_accuracy: 0.5770\n",
      "Epoch 7/25\n",
      "1563/1563 [==============================] - 61s 39ms/step - loss: 1.1899 - accuracy: 0.5839 - val_loss: 1.1125 - val_accuracy: 0.6062\n",
      "Epoch 8/25\n",
      "1563/1563 [==============================] - 57s 36ms/step - loss: 1.1596 - accuracy: 0.5968 - val_loss: 1.2204 - val_accuracy: 0.5854\n",
      "Epoch 9/25\n",
      "1563/1563 [==============================] - 56s 36ms/step - loss: 1.1343 - accuracy: 0.6062 - val_loss: 1.0969 - val_accuracy: 0.6128\n",
      "Epoch 10/25\n",
      "1563/1563 [==============================] - 56s 36ms/step - loss: 1.1150 - accuracy: 0.6119 - val_loss: 1.0995 - val_accuracy: 0.6262\n",
      "Epoch 11/25\n",
      "1563/1563 [==============================] - 57s 37ms/step - loss: 1.0995 - accuracy: 0.6213 - val_loss: 1.1404 - val_accuracy: 0.6216\n",
      "Epoch 12/25\n",
      "1563/1563 [==============================] - 58s 37ms/step - loss: 1.0792 - accuracy: 0.6249 - val_loss: 0.9526 - val_accuracy: 0.6756\n",
      "Epoch 13/25\n",
      "1563/1563 [==============================] - 56s 36ms/step - loss: 1.0629 - accuracy: 0.6333 - val_loss: 1.1411 - val_accuracy: 0.6128\n",
      "Epoch 14/25\n",
      "1563/1563 [==============================] - 57s 36ms/step - loss: 1.0575 - accuracy: 0.6370 - val_loss: 0.9376 - val_accuracy: 0.6768\n",
      "Epoch 15/25\n",
      "1563/1563 [==============================] - 55s 36ms/step - loss: 1.0508 - accuracy: 0.6379 - val_loss: 1.0970 - val_accuracy: 0.6252\n",
      "Epoch 16/25\n",
      "1563/1563 [==============================] - 57s 36ms/step - loss: 1.0336 - accuracy: 0.6443 - val_loss: 1.0606 - val_accuracy: 0.6516\n",
      "Epoch 17/25\n",
      "1563/1563 [==============================] - 60s 38ms/step - loss: 1.0275 - accuracy: 0.6477 - val_loss: 0.9057 - val_accuracy: 0.6918\n",
      "Epoch 18/25\n",
      "1563/1563 [==============================] - 55s 35ms/step - loss: 1.0171 - accuracy: 0.6487 - val_loss: 1.0018 - val_accuracy: 0.6658\n",
      "Epoch 19/25\n",
      "1563/1563 [==============================] - 56s 36ms/step - loss: 1.0095 - accuracy: 0.6536 - val_loss: 0.9814 - val_accuracy: 0.6628\n",
      "Epoch 20/25\n",
      "1563/1563 [==============================] - 55s 35ms/step - loss: 1.0048 - accuracy: 0.6556 - val_loss: 0.9963 - val_accuracy: 0.6702\n",
      "Epoch 21/25\n",
      "1563/1563 [==============================] - 55s 35ms/step - loss: 1.0052 - accuracy: 0.6567 - val_loss: 0.9297 - val_accuracy: 0.6844\n",
      "Epoch 22/25\n",
      "1563/1563 [==============================] - 55s 35ms/step - loss: 0.9895 - accuracy: 0.6608 - val_loss: 0.9396 - val_accuracy: 0.6872\n",
      "Epoch 23/25\n",
      "1563/1563 [==============================] - 55s 35ms/step - loss: 0.9911 - accuracy: 0.6598 - val_loss: 0.9398 - val_accuracy: 0.6874\n",
      "Epoch 24/25\n",
      "1563/1563 [==============================] - 55s 35ms/step - loss: 0.9861 - accuracy: 0.6617 - val_loss: 1.0566 - val_accuracy: 0.6540\n",
      "Epoch 25/25\n",
      "1563/1563 [==============================] - 54s 35ms/step - loss: 0.9730 - accuracy: 0.6677 - val_loss: 0.9695 - val_accuracy: 0.6776\n"
     ]
    }
   ],
   "source": [
    "class myCallback(tf.keras.callbacks.Callback):\n",
    "    def on_epoch_end(self, epoch, logs={}):\n",
    "        if logs.get('val_accuracy') is not None and logs.get('val_accuracy') > 0.7:\n",
    "            self.model.stop_training = True   \n",
    "            print(f'\\n\\nAccuracy моделі на валідаційних даних > 70 %, зупинка навчання після епохи № {epoch+1}')\n",
    "\n",
    "\n",
    "callbacks = myCallback()\n",
    "try:\n",
    "    model = models.load_model('my_model.keras')\n",
    "except:\n",
    "    history = model.fit(X_train, y_train, epochs=25, batch_size=batch_size, validation_data=(X_val, y_val),\n",
    "                        callbacks=[callbacks])\n",
    "    model.save('my_model.keras') # Зберігаємо модель"
   ]
  },
  {
   "cell_type": "markdown",
   "metadata": {},
   "source": [
    "### Тестуємо модель та знаходимо метрики"
   ]
  },
  {
   "cell_type": "code",
   "execution_count": 9,
   "metadata": {},
   "outputs": [
    {
     "name": "stdout",
     "output_type": "stream",
     "text": [
      "Accuracy  моделі на тестових даних: 67.74 %\n",
      "Precision моделі на тестових даних: 69.33 %\n",
      "Recall    моделі на тестових даних: 67.74 %\n",
      "F1-score  моделі на тестових даних: 67.42 %\n"
     ]
    }
   ],
   "source": [
    "test_results = model.evaluate(X_test, y_test, verbose=0)\n",
    "\n",
    "test_accuracy = test_results[1]\n",
    "predictions = np.argmax(model.predict(X_test, verbose=0), axis=1)\n",
    "test_precision = precision_score(np.argmax(y_test, axis=1), predictions, average='weighted')\n",
    "test_recall = recall_score(np.argmax(y_test, axis=1), predictions, average='weighted')\n",
    "test_f1_score = f1_score(np.argmax(y_test, axis=1), predictions, average='weighted')\n",
    "\n",
    "print(f'Accuracy  моделі на тестових даних: {test_accuracy * 100:.2f} %')\n",
    "print(f'Precision моделі на тестових даних: {test_precision * 100:.2f} %')\n",
    "print(f'Recall    моделі на тестових даних: {test_recall * 100:.2f} %')\n",
    "print(f'F1-score  моделі на тестових даних: {test_f1_score * 100:.2f} %')"
   ]
  }
 ],
 "metadata": {
  "kernelspec": {
   "display_name": ".venv",
   "language": "python",
   "name": "python3"
  },
  "language_info": {
   "codemirror_mode": {
    "name": "ipython",
    "version": 3
   },
   "file_extension": ".py",
   "mimetype": "text/x-python",
   "name": "python",
   "nbconvert_exporter": "python",
   "pygments_lexer": "ipython3",
   "version": "3.11.3"
  }
 },
 "nbformat": 4,
 "nbformat_minor": 2
}

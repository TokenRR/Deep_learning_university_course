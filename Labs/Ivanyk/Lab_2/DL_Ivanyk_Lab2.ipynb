{
 "cells": [
  {
   "cell_type": "markdown",
   "metadata": {},
   "source": [
    "# КМ-01, Іваник Юрій, Лаб 2"
   ]
  },
  {
   "cell_type": "code",
   "execution_count": 1,
   "metadata": {},
   "outputs": [],
   "source": [
    "import numpy as np\n",
    "import pandas as pd\n",
    "import random"
   ]
  },
  {
   "cell_type": "code",
   "execution_count": 2,
   "metadata": {},
   "outputs": [],
   "source": [
    "def train_pnn(X_train, Y_train, sigma):\n",
    "    \"\"\"\n",
    "    Обчислюємо ймовірності класів за формулою ядра Гауса.\n",
    "    Ядро Гауса вимірює схожість між точками даних.\n",
    "    Воно базується на евклідовій відстані між X_train та х, зваженій на сігму\n",
    "    \"\"\"\n",
    "\n",
    "    class_probs = {}\n",
    "    for x, class_label in zip(X_train, Y_train):\n",
    "        if class_label not in class_probs:  #  Якщо мітка класу відсутня у словнику, ініціалізуйте її значенням 0.0\n",
    "            class_probs[class_label] = 0.0\n",
    "        class_probs[class_label] += np.exp(-np.sum((X_train - x) ** 2, axis=1) / (2 * sigma ** 2))\n",
    "\n",
    "    return class_probs\n",
    "\n",
    "def predict_pnn(class_probs, X_predict, X_train, sigma):\n",
    "    max_prob = 0 \n",
    "    predicted_class = None \n",
    "\n",
    "    for class_label, prob in class_probs.items():    \n",
    "        similarity = np.exp(-np.sum((X_train - X_predict) ** 2, axis=1) / (2 * sigma ** 2))\n",
    "        class_probs[class_label] += similarity\n",
    "        if np.max(prob) > max_prob: \n",
    "            max_prob = np.max(prob)\n",
    "            predicted_class = class_label\n",
    "\n",
    "    return predicted_class"
   ]
  },
  {
   "cell_type": "markdown",
   "metadata": {},
   "source": [
    "#### Визначаємо навчальні дані"
   ]
  },
  {
   "cell_type": "code",
   "execution_count": 3,
   "metadata": {},
   "outputs": [],
   "source": [
    "X_train = np.array([[0.00065, 0.00071], [0.0571, 0.0494], [0.9, 0.7], \n",
    "                    [0.00034, 0.00045], [0.0454, 0.0662], [0.8, 0.9]])\n",
    "Y_train = np.array(['A', 'B', 'C', 'A', 'B', 'C'])"
   ]
  },
  {
   "cell_type": "markdown",
   "metadata": {},
   "source": [
    "#### Навчаємо та тестуємо PNN\n",
    "Параметр sigma для бажаної точності"
   ]
  },
  {
   "cell_type": "code",
   "execution_count": 4,
   "metadata": {},
   "outputs": [
    {
     "name": "stdout",
     "output_type": "stream",
     "text": [
      "                  Data Predicted class\n",
      "0   [0.63943, 0.02501]               A\n",
      "1   [0.27503, 0.22321]               B\n",
      "2    [0.73647, 0.6767]               C\n",
      "3   [0.89218, 0.08694]               A\n",
      "4    [0.42192, 0.0298]               B\n",
      "5   [0.21864, 0.50536]               B\n",
      "6   [0.02654, 0.19884]               B\n",
      "7   [0.64988, 0.54494]               A\n",
      "8   [0.22044, 0.58927]               A\n",
      "9    [0.80943, 0.0065]               A\n",
      "10  [0.80582, 0.69814]               C\n",
      "11  [0.34025, 0.15548]               B\n",
      "12  [0.95721, 0.33659]               A\n",
      "13  [0.09275, 0.09672]               B\n",
      "14  [0.84749, 0.60373]               C\n",
      "15  [0.80713, 0.72973]               C\n",
      "16  [0.53623, 0.97312]               A\n",
      "17  [0.37853, 0.55204]               A\n",
      "18   [0.8294, 0.61852]               C\n",
      "19  [0.86171, 0.57735]               C\n",
      "20  [0.70457, 0.04582]               A\n",
      "21   [0.2279, 0.28939]               B\n",
      "22  [0.07979, 0.23279]               B\n",
      "23    [0.101, 0.27797]               B\n",
      "24  [0.63568, 0.36483]               A\n",
      "25  [0.37018, 0.20951]               B\n",
      "26  [0.26698, 0.93665]               A\n",
      "27  [0.64804, 0.60913]               A\n",
      "28  [0.17114, 0.72913]               A\n",
      "29   [0.1634, 0.37946]               B\n"
     ]
    }
   ],
   "source": [
    "sigma = 0.165\n",
    "random.seed(42)\n",
    "x_t = [[round(random.uniform(0, 1), 5), round(random.uniform(0, 1), 5)] for _ in range(30)]\n",
    "\n",
    "results_df = pd.DataFrame(columns=[\"Data\", \"Predicted class\"])\n",
    "\n",
    "for x in x_t:\n",
    "    x = np.array(x)\n",
    "    class_probs = train_pnn(X_train, Y_train, sigma)\n",
    "    pred_cl = predict_pnn(class_probs, x, X_train, sigma)\n",
    "    results_df = pd.concat([results_df, pd.DataFrame({\"Data\": [x.tolist()], \"Predicted class\": [pred_cl]})],\n",
    "                           ignore_index=True)\n",
    "\n",
    "print(results_df)"
   ]
  },
  {
   "cell_type": "code",
   "execution_count": 5,
   "metadata": {},
   "outputs": [
    {
     "name": "stdout",
     "output_type": "stream",
     "text": [
      "Кількість класів тестового набору:\n",
      "Predicted class\n",
      "A    13\n",
      "B    11\n",
      "C     6\n",
      "Name: count, dtype: int64\n"
     ]
    }
   ],
   "source": [
    "class_counts = results_df['Predicted class'].value_counts()\n",
    "print(f'Кількість класів тестового набору:\\n{class_counts}')"
   ]
  }
 ],
 "metadata": {
  "kernelspec": {
   "display_name": ".venv",
   "language": "python",
   "name": "python3"
  },
  "language_info": {
   "codemirror_mode": {
    "name": "ipython",
    "version": 3
   },
   "file_extension": ".py",
   "mimetype": "text/x-python",
   "name": "python",
   "nbconvert_exporter": "python",
   "pygments_lexer": "ipython3",
   "version": "3.11.3"
  }
 },
 "nbformat": 4,
 "nbformat_minor": 2
}

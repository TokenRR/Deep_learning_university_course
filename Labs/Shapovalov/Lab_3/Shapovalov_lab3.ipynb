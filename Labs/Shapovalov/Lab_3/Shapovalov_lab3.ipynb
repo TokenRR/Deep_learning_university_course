{
 "cells": [
  {
   "cell_type": "markdown",
   "metadata": {},
   "source": [
    "# КМ-03 | Шаповалов Гліб | PNN Cyberatack"
   ]
  },
  {
   "cell_type": "markdown",
   "metadata": {},
   "source": [
    "### Імпортуємо бібліотеки"
   ]
  },
  {
   "cell_type": "code",
   "execution_count": 24,
   "metadata": {},
   "outputs": [],
   "source": [
    "import time\n",
    "import numpy as np\n",
    "import pandas as pd\n",
    "import seaborn as sns\n",
    "import matplotlib.pyplot as plt\n",
    "from sklearn.preprocessing import MinMaxScaler\n",
    "from sklearn.model_selection import train_test_split\n",
    "from sklearn.metrics import accuracy_score, precision_score, recall_score, f1_score, confusion_matrix"
   ]
  },
  {
   "cell_type": "markdown",
   "metadata": {},
   "source": [
    "### Завантажимо датасет NSL-KDD"
   ]
  },
  {
   "cell_type": "code",
   "execution_count": 25,
   "metadata": {},
   "outputs": [],
   "source": [
    "start_timer = time.time()\n",
    "train_data = pd.read_csv('KDDTrain+.txt')\n",
    "test_data = pd.read_csv('KDDTest+.txt')"
   ]
  },
  {
   "cell_type": "markdown",
   "metadata": {},
   "source": [
    "### Даємо назви колонкам у датафреймі"
   ]
  },
  {
   "cell_type": "code",
   "execution_count": 26,
   "metadata": {},
   "outputs": [],
   "source": [
    "columns = (['duration','protocol_type','service','flag','src_bytes','dst_bytes','land','wrong_fragment','urgent','hot',\n",
    "            'num_failed_logins','logged_in','num_compromised','root_shell','su_attempted','num_root',\n",
    "            'num_file_creations','num_shells','num_access_files','num_outbound_cmds','is_host_login','is_guest_login',\n",
    "            'count','srv_count','serror_rate','srv_serror_rate','rerror_rate','srv_rerror_rate','same_srv_rate',\n",
    "            'diff_srv_rate','srv_diff_host_rate','dst_host_count','dst_host_srv_count','dst_host_same_srv_rate',\n",
    "            'dst_host_diff_srv_rate','dst_host_same_src_port_rate','dst_host_srv_diff_host_rate','dst_host_serror_rate',\n",
    "            'dst_host_srv_serror_rate','dst_host_rerror_rate','dst_host_srv_rerror_rate','attack','level'])\n",
    "\n",
    "train_data.columns = columns\n",
    "test_data.columns = columns"
   ]
  },
  {
   "cell_type": "code",
   "execution_count": 4,
   "metadata": {},
   "outputs": [
    {
     "name": "stdout",
     "output_type": "stream",
     "text": [
      "Розмір навчального набору: 62669\n",
      "Розмір тестового набору: 15668\n"
     ]
    }
   ],
   "source": [
    "# Поєднання двох датафреймів\n",
    "combined_data = pd.concat([train_data, test_data], axis=0)\n",
    "\n",
    "# Розділення за типом атаки\n",
    "attack_data = combined_data[combined_data['attack'] == 'guess_passwd']\n",
    "normal_data = combined_data[combined_data['attack'] == 'normal']\n",
    "\n",
    "# Розбиття на навчальний та тестовий набір\n",
    "train_attack, test_attack = train_test_split(attack_data, test_size=0.2, random_state=42)\n",
    "train_normal, test_normal = train_test_split(normal_data, test_size=0.2, random_state=42)\n",
    "\n",
    "# Об'єднання навчальних та тестових наборів\n",
    "train_data = pd.concat([train_attack, train_normal], axis=0)\n",
    "test_data = pd.concat([test_attack, test_normal], axis=0)\n",
    "\n",
    "# Виведення розмірів навчального та тестового наборів\n",
    "print(f'Розмір навчального набору: {train_data.shape[0]}')\n",
    "print(f'Розмір тестового набору: {test_data.shape[0]}')"
   ]
  },
  {
   "cell_type": "markdown",
   "metadata": {},
   "source": [
    "### Перевіримо кількість записів які містять тип атаки 'rootkit' або 'normal'"
   ]
  },
  {
   "cell_type": "code",
   "execution_count": 23,
   "metadata": {},
   "outputs": [
    {
     "ename": "KeyError",
     "evalue": "'attack'",
     "output_type": "error",
     "traceback": [
      "\u001b[1;31m---------------------------------------------------------------------------\u001b[0m",
      "\u001b[1;31mKeyError\u001b[0m                                  Traceback (most recent call last)",
      "File \u001b[1;32md:\\KPI\\Deep_learning\\.venv\\Lib\\site-packages\\pandas\\core\\indexes\\base.py:3790\u001b[0m, in \u001b[0;36mIndex.get_loc\u001b[1;34m(self, key)\u001b[0m\n\u001b[0;32m   3789\u001b[0m \u001b[39mtry\u001b[39;00m:\n\u001b[1;32m-> 3790\u001b[0m     \u001b[39mreturn\u001b[39;00m \u001b[39mself\u001b[39;49m\u001b[39m.\u001b[39;49m_engine\u001b[39m.\u001b[39;49mget_loc(casted_key)\n\u001b[0;32m   3791\u001b[0m \u001b[39mexcept\u001b[39;00m \u001b[39mKeyError\u001b[39;00m \u001b[39mas\u001b[39;00m err:\n",
      "File \u001b[1;32mindex.pyx:152\u001b[0m, in \u001b[0;36mpandas._libs.index.IndexEngine.get_loc\u001b[1;34m()\u001b[0m\n",
      "File \u001b[1;32mindex.pyx:181\u001b[0m, in \u001b[0;36mpandas._libs.index.IndexEngine.get_loc\u001b[1;34m()\u001b[0m\n",
      "File \u001b[1;32mpandas\\_libs\\hashtable_class_helper.pxi:7080\u001b[0m, in \u001b[0;36mpandas._libs.hashtable.PyObjectHashTable.get_item\u001b[1;34m()\u001b[0m\n",
      "File \u001b[1;32mpandas\\_libs\\hashtable_class_helper.pxi:7088\u001b[0m, in \u001b[0;36mpandas._libs.hashtable.PyObjectHashTable.get_item\u001b[1;34m()\u001b[0m\n",
      "\u001b[1;31mKeyError\u001b[0m: 'attack'",
      "\nThe above exception was the direct cause of the following exception:\n",
      "\u001b[1;31mKeyError\u001b[0m                                  Traceback (most recent call last)",
      "\u001b[1;32md:\\KPI\\Deep_learning\\Labs\\Shapovalov\\Lab_3\\Shapovalov_lab3.ipynb Cell 10\u001b[0m line \u001b[0;36m1\n\u001b[0;32m     <a href='vscode-notebook-cell:/d%3A/KPI/Deep_learning/Labs/Shapovalov/Lab_3/Shapovalov_lab3.ipynb#X12sZmlsZQ%3D%3D?line=11'>12</a>\u001b[0m     \u001b[39mprint\u001b[39m(\u001b[39mf\u001b[39m\u001b[39m\"\u001b[39m\u001b[39mКількість входжень \u001b[39m\u001b[39m'\u001b[39m\u001b[39mnormal\u001b[39m\u001b[39m'\u001b[39m\u001b[39m       у \u001b[39m\u001b[39m'\u001b[39m\u001b[39mtrain_data\u001b[39m\u001b[39m'\u001b[39m\u001b[39m: \u001b[39m\u001b[39m{\u001b[39;00mcount_train_normal\u001b[39m}\u001b[39;00m\u001b[39m\"\u001b[39m)\n\u001b[0;32m     <a href='vscode-notebook-cell:/d%3A/KPI/Deep_learning/Labs/Shapovalov/Lab_3/Shapovalov_lab3.ipynb#X12sZmlsZQ%3D%3D?line=12'>13</a>\u001b[0m     \u001b[39mprint\u001b[39m(\u001b[39mf\u001b[39m\u001b[39m\"\u001b[39m\u001b[39mКількість входжень \u001b[39m\u001b[39m'\u001b[39m\u001b[39mnormal\u001b[39m\u001b[39m'\u001b[39m\u001b[39m       у \u001b[39m\u001b[39m'\u001b[39m\u001b[39mtest_data\u001b[39m\u001b[39m'\u001b[39m\u001b[39m : \u001b[39m\u001b[39m{\u001b[39;00mcount_test_normal\u001b[39m}\u001b[39;00m\u001b[39m\"\u001b[39m)\n\u001b[1;32m---> <a href='vscode-notebook-cell:/d%3A/KPI/Deep_learning/Labs/Shapovalov/Lab_3/Shapovalov_lab3.ipynb#X12sZmlsZQ%3D%3D?line=15'>16</a>\u001b[0m check_guess_pass_normal()\n",
      "\u001b[1;32md:\\KPI\\Deep_learning\\Labs\\Shapovalov\\Lab_3\\Shapovalov_lab3.ipynb Cell 10\u001b[0m line \u001b[0;36m2\n\u001b[0;32m      <a href='vscode-notebook-cell:/d%3A/KPI/Deep_learning/Labs/Shapovalov/Lab_3/Shapovalov_lab3.ipynb#X12sZmlsZQ%3D%3D?line=0'>1</a>\u001b[0m \u001b[39mdef\u001b[39;00m \u001b[39mcheck_guess_pass_normal\u001b[39m():\n\u001b[1;32m----> <a href='vscode-notebook-cell:/d%3A/KPI/Deep_learning/Labs/Shapovalov/Lab_3/Shapovalov_lab3.ipynb#X12sZmlsZQ%3D%3D?line=1'>2</a>\u001b[0m     count_train_guess_pass \u001b[39m=\u001b[39m (train_data[\u001b[39m'\u001b[39;49m\u001b[39mattack\u001b[39;49m\u001b[39m'\u001b[39;49m] \u001b[39m==\u001b[39m \u001b[39m'\u001b[39m\u001b[39mguess_passwd\u001b[39m\u001b[39m'\u001b[39m)\u001b[39m.\u001b[39msum()\n\u001b[0;32m      <a href='vscode-notebook-cell:/d%3A/KPI/Deep_learning/Labs/Shapovalov/Lab_3/Shapovalov_lab3.ipynb#X12sZmlsZQ%3D%3D?line=2'>3</a>\u001b[0m     count_test_guess_pass \u001b[39m=\u001b[39m (test_data[\u001b[39m'\u001b[39m\u001b[39mattack\u001b[39m\u001b[39m'\u001b[39m] \u001b[39m==\u001b[39m \u001b[39m'\u001b[39m\u001b[39mguess_passwd\u001b[39m\u001b[39m'\u001b[39m)\u001b[39m.\u001b[39msum()\n\u001b[0;32m      <a href='vscode-notebook-cell:/d%3A/KPI/Deep_learning/Labs/Shapovalov/Lab_3/Shapovalov_lab3.ipynb#X12sZmlsZQ%3D%3D?line=3'>4</a>\u001b[0m     count_train_normal \u001b[39m=\u001b[39m (train_data[\u001b[39m'\u001b[39m\u001b[39mattack\u001b[39m\u001b[39m'\u001b[39m] \u001b[39m==\u001b[39m \u001b[39m'\u001b[39m\u001b[39mnormal\u001b[39m\u001b[39m'\u001b[39m)\u001b[39m.\u001b[39msum()\n",
      "File \u001b[1;32md:\\KPI\\Deep_learning\\.venv\\Lib\\site-packages\\pandas\\core\\frame.py:3893\u001b[0m, in \u001b[0;36mDataFrame.__getitem__\u001b[1;34m(self, key)\u001b[0m\n\u001b[0;32m   3891\u001b[0m \u001b[39mif\u001b[39;00m \u001b[39mself\u001b[39m\u001b[39m.\u001b[39mcolumns\u001b[39m.\u001b[39mnlevels \u001b[39m>\u001b[39m \u001b[39m1\u001b[39m:\n\u001b[0;32m   3892\u001b[0m     \u001b[39mreturn\u001b[39;00m \u001b[39mself\u001b[39m\u001b[39m.\u001b[39m_getitem_multilevel(key)\n\u001b[1;32m-> 3893\u001b[0m indexer \u001b[39m=\u001b[39m \u001b[39mself\u001b[39;49m\u001b[39m.\u001b[39;49mcolumns\u001b[39m.\u001b[39;49mget_loc(key)\n\u001b[0;32m   3894\u001b[0m \u001b[39mif\u001b[39;00m is_integer(indexer):\n\u001b[0;32m   3895\u001b[0m     indexer \u001b[39m=\u001b[39m [indexer]\n",
      "File \u001b[1;32md:\\KPI\\Deep_learning\\.venv\\Lib\\site-packages\\pandas\\core\\indexes\\base.py:3797\u001b[0m, in \u001b[0;36mIndex.get_loc\u001b[1;34m(self, key)\u001b[0m\n\u001b[0;32m   3792\u001b[0m     \u001b[39mif\u001b[39;00m \u001b[39misinstance\u001b[39m(casted_key, \u001b[39mslice\u001b[39m) \u001b[39mor\u001b[39;00m (\n\u001b[0;32m   3793\u001b[0m         \u001b[39misinstance\u001b[39m(casted_key, abc\u001b[39m.\u001b[39mIterable)\n\u001b[0;32m   3794\u001b[0m         \u001b[39mand\u001b[39;00m \u001b[39many\u001b[39m(\u001b[39misinstance\u001b[39m(x, \u001b[39mslice\u001b[39m) \u001b[39mfor\u001b[39;00m x \u001b[39min\u001b[39;00m casted_key)\n\u001b[0;32m   3795\u001b[0m     ):\n\u001b[0;32m   3796\u001b[0m         \u001b[39mraise\u001b[39;00m InvalidIndexError(key)\n\u001b[1;32m-> 3797\u001b[0m     \u001b[39mraise\u001b[39;00m \u001b[39mKeyError\u001b[39;00m(key) \u001b[39mfrom\u001b[39;00m \u001b[39merr\u001b[39;00m\n\u001b[0;32m   3798\u001b[0m \u001b[39mexcept\u001b[39;00m \u001b[39mTypeError\u001b[39;00m:\n\u001b[0;32m   3799\u001b[0m     \u001b[39m# If we have a listlike key, _check_indexing_error will raise\u001b[39;00m\n\u001b[0;32m   3800\u001b[0m     \u001b[39m#  InvalidIndexError. Otherwise we fall through and re-raise\u001b[39;00m\n\u001b[0;32m   3801\u001b[0m     \u001b[39m#  the TypeError.\u001b[39;00m\n\u001b[0;32m   3802\u001b[0m     \u001b[39mself\u001b[39m\u001b[39m.\u001b[39m_check_indexing_error(key)\n",
      "\u001b[1;31mKeyError\u001b[0m: 'attack'"
     ]
    }
   ],
   "source": [
    "def check_guess_pass_normal():\n",
    "    count_train_guess_pass = (train_data['attack'] == 'guess_passwd').sum()\n",
    "    count_test_guess_pass = (test_data['attack'] == 'guess_passwd').sum()\n",
    "    count_train_normal = (train_data['attack'] == 'normal').sum()\n",
    "    count_test_normal = (test_data['attack'] == 'normal').sum()\n",
    "\n",
    "    print(f'Кількість записів у датасеті \\'train_data\\': {train_data.shape[0]}')\n",
    "    print(f'Кількість записів у датасеті \\'test_data\\' : {test_data.shape[0]}\\n')\n",
    "\n",
    "    print(f\"Кількість входжень 'guess_passwd' у 'train_data': {count_train_guess_pass}\")\n",
    "    print(f\"Кількість входжень 'guess_passwd' у 'test_data' : {count_test_guess_pass}\")\n",
    "    print(f\"Кількість входжень 'normal'       у 'train_data': {count_train_normal}\")\n",
    "    print(f\"Кількість входжень 'normal'       у 'test_data' : {count_test_normal}\")\n",
    "\n",
    "\n",
    "check_guess_pass_normal()"
   ]
  },
  {
   "cell_type": "markdown",
   "metadata": {},
   "source": [
    "### Прибираємо з датасету всі записи, які не містять 'normal' або 'rootkit'"
   ]
  },
  {
   "cell_type": "code",
   "execution_count": 6,
   "metadata": {},
   "outputs": [],
   "source": [
    "train_data = train_data[(train_data['attack'] == 'guess_passwd') | (train_data['attack'] == 'normal')]\n",
    "test_data  = test_data[ (test_data['attack']  == 'guess_passwd') | (test_data['attack']  == 'normal')]\n",
    "\n",
    "# train_data.dtypes\n",
    "# test_data.dtypes"
   ]
  },
  {
   "cell_type": "markdown",
   "metadata": {},
   "source": [
    "### Перекодуємо категорійні значення"
   ]
  },
  {
   "cell_type": "code",
   "execution_count": 7,
   "metadata": {},
   "outputs": [],
   "source": [
    "# Використання one-hot encoding для категорійних змінних\n",
    "filtered_train_data = pd.get_dummies(train_data, drop_first=True)\n",
    "filtered_test_data  = pd.get_dummies(test_data,  drop_first=True)"
   ]
  },
  {
   "cell_type": "markdown",
   "metadata": {},
   "source": [
    "### Перевіримо чи співпадають назви колонок та їх кількість\n",
    "Це важливо оскільки ми передаємо ці значення в нейронну мережу"
   ]
  },
  {
   "cell_type": "code",
   "execution_count": 8,
   "metadata": {},
   "outputs": [
    {
     "name": "stdout",
     "output_type": "stream",
     "text": [
      "Колонок у 'filtered_train_data': 78\n",
      "Колонок у 'filtered_test_data':  75\n",
      "Кількість спільних колонок: 74\n",
      "\n",
      "Унікальні колонки в filtered_train_data: \n",
      "{'flag_SH', 'flag_RSTOS0', 'service_shell', 'service_link'}\n",
      "\n",
      "Унікальні колонки в filtered_test_data: \n",
      "{'service_remote_job'}\n",
      "\n",
      "Отже, назви та кількість не співпадають\n"
     ]
    }
   ],
   "source": [
    "print(f'Колонок у \\'filtered_train_data\\': {filtered_train_data.shape[1]}')\n",
    "print(f'Колонок у \\'filtered_test_data\\':  {filtered_test_data.shape[1]}')\n",
    "\n",
    "# Отримання назв колонок для обох датафреймів\n",
    "columns_train = set(filtered_train_data.columns)\n",
    "columns_test = set(filtered_test_data.columns)\n",
    "\n",
    "# Знаходження спільних назв колонок\n",
    "common_columns = columns_train.intersection(columns_test)\n",
    "\n",
    "# Виведення назв та кількості спільних колонок\n",
    "print('Кількість спільних колонок:', len(common_columns))\n",
    "\n",
    "# Знаходження унікальних колонок у кожному датафреймі\n",
    "unique_columns_train = columns_train.difference(columns_test)\n",
    "unique_columns_test = columns_test.difference(columns_train)\n",
    "\n",
    "# Виведення назв унікальних колонок у кожному датафреймі\n",
    "print(f'\\nУнікальні колонки в filtered_train_data: \\n{unique_columns_train}')\n",
    "print(f'\\nУнікальні колонки в filtered_test_data: \\n{unique_columns_test}')\n",
    "print(f'\\nОтже, назви та кількість не співпадають')"
   ]
  },
  {
   "cell_type": "markdown",
   "metadata": {},
   "source": [
    "### Подивимось наскільки багато цих даних і чи можемо ми їх позбутися"
   ]
  },
  {
   "cell_type": "code",
   "execution_count": 9,
   "metadata": {},
   "outputs": [
    {
     "name": "stdout",
     "output_type": "stream",
     "text": [
      "Кількість входжень 'link'       у 'train_data': 1\n",
      "Кількість входжень 'shell'      у 'train_data': 4\n",
      "Кількість входжень 'SH'         у 'train_data': 2\n",
      "Кількість входжень 'RSTOS0'     у 'train_data': 1\n",
      "Кількість входжень 'remote_job' у 'test_data' : 1\n"
     ]
    }
   ],
   "source": [
    "a = (train_data['service'] == 'link').sum()\n",
    "b = (train_data['service'] == 'shell').sum()\n",
    "c = (train_data['flag'] == 'SH').sum()\n",
    "d = (train_data['flag'] == 'RSTOS0').sum()\n",
    "e = (test_data['service'] == 'remote_job').sum()\n",
    "\n",
    "\n",
    "print(f\"Кількість входжень 'link'       у 'train_data': {a}\")\n",
    "print(f\"Кількість входжень 'shell'      у 'train_data': {b}\")\n",
    "print(f\"Кількість входжень 'SH'         у 'train_data': {c}\")\n",
    "print(f\"Кількість входжень 'RSTOS0'     у 'train_data': {d}\")\n",
    "print(f\"Кількість входжень 'remote_job' у 'test_data' : {e}\")"
   ]
  },
  {
   "cell_type": "markdown",
   "metadata": {},
   "source": [
    "### Видаляємо дані\n",
    "Тренувальний датасет містить більше 67 тис. даних, а тестовий датасет 9 тис.  \n",
    "Тому видалення такої кількості даних повинно сильно вплинути на результати досліджень "
   ]
  },
  {
   "cell_type": "code",
   "execution_count": 10,
   "metadata": {},
   "outputs": [],
   "source": [
    "# Видалення записів з умовами у train_data\n",
    "train_data = train_data[(train_data['service'] != 'link') &\n",
    "                        (train_data['service'] != 'shell') &\n",
    "                        (train_data['flag'] != 'SH') &\n",
    "                        (train_data['flag'] != 'RSTOS0')]\n",
    "\n",
    "# Видалення записів з умовами у test_data\n",
    "test_data = test_data[(test_data['service'] != 'remote_job')]"
   ]
  },
  {
   "cell_type": "markdown",
   "metadata": {},
   "source": [
    "### Перевіримо чи зараз співпадають назви та кількість колонок"
   ]
  },
  {
   "cell_type": "code",
   "execution_count": 12,
   "metadata": {},
   "outputs": [],
   "source": [
    "# Розділення 'attack' від інших змінних\n",
    "attacks_train = train_data[['attack']]\n",
    "attacks_test = test_data[['attack']]\n",
    "\n",
    "# Видалення 'attack' з оригінального набору даних\n",
    "train_data = train_data.drop(columns=['attack'])\n",
    "test_data = test_data.drop(columns=['attack'])\n",
    "\n",
    "# Перекодування за допомогою pd.get_dummies() для інших змінних\n",
    "filtered_train_data = pd.get_dummies(train_data, drop_first=True)\n",
    "filtered_test_data = pd.get_dummies(test_data,  drop_first=True)\n",
    "\n",
    "# Додавання нового стовпця 'attack_guess_passwd' за вашою логікою\n",
    "filtered_train_data['attack_guess_passwd'] = attacks_train['attack'].map(lambda x: 1.0 if x == 'guess_passwd' else 0.0)\n",
    "filtered_test_data['attack_guess_passwd'] = attacks_test['attack'].map(lambda x: 1.0 if x == 'guess_passwd' else 0.0)"
   ]
  },
  {
   "cell_type": "code",
   "execution_count": 13,
   "metadata": {},
   "outputs": [
    {
     "name": "stdout",
     "output_type": "stream",
     "text": [
      "Колонок у 'filtered_train_data': 74\n",
      "Колонок у 'filtered_test_data':  74\n",
      "Кількість спільних колонок: 74\n",
      "\n",
      "Отже назви колонок у датафреймах повністю однакові\n"
     ]
    }
   ],
   "source": [
    "print(f'Колонок у \\'filtered_train_data\\': {filtered_train_data.shape[1]}')\n",
    "print(f'Колонок у \\'filtered_test_data\\':  {filtered_test_data.shape[1]}')\n",
    "\n",
    "# Отримання назв колонок для обох датафреймів\n",
    "columns_train = set(filtered_train_data.columns)\n",
    "columns_test = set(filtered_test_data.columns)\n",
    "\n",
    "# Знаходження спільних назв колонок\n",
    "common_columns = columns_train.intersection(columns_test)\n",
    "\n",
    "# Виведення назв та кількості спільних колонок\n",
    "print('Кількість спільних колонок:', len(common_columns))\n",
    "print('\\nОтже назви колонок у датафреймах повністю однакові')"
   ]
  },
  {
   "cell_type": "markdown",
   "metadata": {},
   "source": [
    "### Для коректної роботи НМ треба нормалізувати дані"
   ]
  },
  {
   "cell_type": "code",
   "execution_count": 14,
   "metadata": {},
   "outputs": [],
   "source": [
    "scaler = MinMaxScaler()\n",
    "\n",
    "new_columns = filtered_train_data.columns\n",
    "\n",
    "filtered_train_data[new_columns] = scaler.fit_transform(filtered_train_data[new_columns])\n",
    "filtered_test_data[new_columns] = scaler.transform(filtered_test_data[new_columns])"
   ]
  },
  {
   "cell_type": "markdown",
   "metadata": {},
   "source": [
    "### Створюємо клас ймовірнісної нейронної мережі (PNN)"
   ]
  },
  {
   "cell_type": "code",
   "execution_count": 15,
   "metadata": {},
   "outputs": [],
   "source": [
    "class PNN:\n",
    "    def __init__(self, input_size, output_size):\n",
    "        self.input_size = input_size\n",
    "        self.output_size = output_size\n",
    "        self.mean_vectors = None\n",
    "        self.sigma = None\n",
    "        self.weights = None\n",
    "\n",
    "\n",
    "    def train(self, X, y, sigma=1.0):\n",
    "        self.mean_vectors = []\n",
    "        self.sigma = sigma\n",
    "\n",
    "        # Обчислюємо середні вектори для кожного класу\n",
    "        for class_label in range(self.output_size):\n",
    "            class_samples = X[y == class_label]\n",
    "            mean_vector = np.mean(class_samples, axis=0)\n",
    "            self.mean_vectors.append(mean_vector)\n",
    "\n",
    "        self.mean_vectors = np.array(self.mean_vectors)\n",
    "\n",
    "        # Обчислюємо ваги для кожного класу\n",
    "        self.weights = np.ones(self.output_size) / self.output_size\n",
    "\n",
    "\n",
    "    def predict(self, X):\n",
    "        predictions = []\n",
    "\n",
    "        for sample in X:\n",
    "            probabilities = []\n",
    "\n",
    "            # Розраховуємо ймовірності для кожного класу\n",
    "            for class_label in range(self.output_size):\n",
    "                mean_vector = self.mean_vectors[class_label]\n",
    "                sample = sample.astype(float)\n",
    "                activation = np.exp(-0.5 * np.sum((sample - mean_vector) ** 2) / (self.sigma ** 2))\n",
    "                probability = activation * self.weights[class_label]\n",
    "                probabilities.append(probability)\n",
    "\n",
    "            # Визначаємо клас з найвищою ймовірністю\n",
    "            predicted_class = np.argmax(probabilities)\n",
    "            predictions.append(predicted_class)\n",
    "\n",
    "        return np.array(predictions)"
   ]
  },
  {
   "cell_type": "markdown",
   "metadata": {},
   "source": [
    "### Розділимо датафрейми `filtered_train_data` та `filtered_test_data` на X_train, X_test, y_train, y_test"
   ]
  },
  {
   "cell_type": "code",
   "execution_count": 22,
   "metadata": {},
   "outputs": [],
   "source": [
    "X_train = filtered_train_data.drop(columns=['attack_guess_passwd'])\n",
    "y_train = filtered_train_data['attack_guess_passwd']\n",
    "\n",
    "X_test = filtered_test_data.drop(columns=['attack_guess_passwd'])\n",
    "y_test = filtered_test_data['attack_guess_passwd']"
   ]
  },
  {
   "cell_type": "markdown",
   "metadata": {},
   "source": [
    "### Ініціалізуємо модель PNN"
   ]
  },
  {
   "cell_type": "code",
   "execution_count": 17,
   "metadata": {},
   "outputs": [],
   "source": [
    "input_size = train_data.shape[1]\n",
    "output_size = 2  # розмірність вихідного шару (два класи: rootkit та normal)\n",
    "\n",
    "pnn = PNN(input_size, output_size)"
   ]
  },
  {
   "cell_type": "markdown",
   "metadata": {},
   "source": [
    "### Навчання PNN"
   ]
  },
  {
   "cell_type": "code",
   "execution_count": 18,
   "metadata": {},
   "outputs": [],
   "source": [
    "pnn.train(X_train, y_train, sigma=1.0)"
   ]
  },
  {
   "cell_type": "markdown",
   "metadata": {},
   "source": [
    "### Використання PNN"
   ]
  },
  {
   "cell_type": "code",
   "execution_count": 19,
   "metadata": {},
   "outputs": [],
   "source": [
    "predictions = pnn.predict(X_test.values)"
   ]
  },
  {
   "cell_type": "markdown",
   "metadata": {},
   "source": [
    "### Знайдемо метрики, щоб зрозуміти наскільки хороших результатів було досягнуто"
   ]
  },
  {
   "cell_type": "code",
   "execution_count": 20,
   "metadata": {},
   "outputs": [
    {
     "name": "stdout",
     "output_type": "stream",
     "text": [
      "Accuracy (Точність) : 93.38099 %\n",
      "Precision (Точність): 19.8609 %\n",
      "Recall (Повнота)    : 100.0 %\n",
      "F1 Score (F-міра)   : 33.13991 %\n"
     ]
    }
   ],
   "source": [
    "y_true = y_test\n",
    "accuracy = accuracy_score(y_true, predictions)\n",
    "precision = precision_score(y_true, predictions)\n",
    "recall = recall_score(y_true, predictions)\n",
    "f1 = f1_score(y_true, predictions)\n",
    "\n",
    "print(f\"Accuracy (Точність) : {round(accuracy * 100, 5)} %\")\n",
    "print(f\"Precision (Точність): {round(precision * 100, 5)} %\")\n",
    "print(f\"Recall (Повнота)    : {round(recall * 100, 5)} %\")\n",
    "print(f\"F1 Score (F-міра)   : {round(f1 * 100, 5)} %\")"
   ]
  },
  {
   "cell_type": "markdown",
   "metadata": {},
   "source": [
    "### Побудуємо теплову карту з результатами дослідження"
   ]
  },
  {
   "cell_type": "code",
   "execution_count": 21,
   "metadata": {},
   "outputs": [
    {
     "data": {
      "image/png": "[encoded data removed]",
      "text/plain": [
       "<Figure size 640x480 with 2 Axes>"
      ]
     },
     "metadata": {},
     "output_type": "display_data"
    }
   ],
   "source": [
    "cm = confusion_matrix(y_true, predictions)\n",
    "sns.heatmap(cm, annot=True, fmt=\"d\", cmap=\"Greens\",\n",
    "            xticklabels=['normal', 'guess_passwd'], yticklabels=['normal', 'guess_passwd'])\n",
    "plt.title('Теплова карта прогнозування кібератаки типу \\'guess_passwd\\'\\n')\n",
    "plt.xlabel(\"Predicted Label\")\n",
    "plt.ylabel(\"True Label\")\n",
    "plt.show()"
   ]
  }
 ],
 "metadata": {
  "kernelspec": {
   "display_name": ".venv",
   "language": "python",
   "name": "python3"
  },
  "language_info": {
   "codemirror_mode": {
    "name": "ipython",
    "version": 3
   },
   "file_extension": ".py",
   "mimetype": "text/x-python",
   "name": "python",
   "nbconvert_exporter": "python",
   "pygments_lexer": "ipython3",
   "version": "3.11.3"
  }
 },
 "nbformat": 4,
 "nbformat_minor": 2
}

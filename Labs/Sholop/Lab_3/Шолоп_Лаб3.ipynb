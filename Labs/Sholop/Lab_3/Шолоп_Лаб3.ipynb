{
 "cells": [
  {
   "cell_type": "markdown",
   "metadata": {},
   "source": [
    "## Лабораторна робота №3\n",
    "## Виконав ст. групи КМ-01\n",
    "## Шолоп Любомир\n",
    "## Варіант 4 (21)\n",
    "*Розпізнавання мережевої кібератаки типу teardrop на базі PNN*"
   ]
  },
  {
   "cell_type": "markdown",
   "metadata": {},
   "source": [
    "### Імпортуємо бібліотеки"
   ]
  },
  {
   "cell_type": "code",
   "execution_count": 1,
   "metadata": {},
   "outputs": [],
   "source": [
    "import numpy as np\n",
    "import pandas as pd\n",
    "\n",
    "import seaborn as sns\n",
    "import matplotlib.pyplot as plt\n",
    "\n",
    "from sklearn.preprocessing import MinMaxScaler\n",
    "from sklearn.model_selection import train_test_split\n",
    "from sklearn.metrics import accuracy_score, precision_score, recall_score, f1_score\n",
    "from sklearn.metrics import precision_recall_curve, average_precision_score, confusion_matrix"
   ]
  },
  {
   "cell_type": "markdown",
   "metadata": {},
   "source": [
    "### Створюємо клас мережі PNN"
   ]
  },
  {
   "cell_type": "code",
   "execution_count": 2,
   "metadata": {},
   "outputs": [],
   "source": [
    "class PNN:\n",
    "    def __init__(self, input_size, output_size):\n",
    "        \"\"\"\n",
    "        Ініціалізація параметрів моделі PNN.\n",
    "\n",
    "        Parameters:\n",
    "        - input_size (int): Розмір вхідного вектора.\n",
    "        - output_size (int): Кількість вихідних класів.\n",
    "        \"\"\"\n",
    "        self.input_size = input_size\n",
    "        self.output_size = output_size\n",
    "        self.mean_vectors = None\n",
    "        self.sigma = None\n",
    "        self.weights = None\n",
    "\n",
    "\n",
    "    def predict(self, X_train, X_test, y, sigma=1.0):\n",
    "        \"\"\"\n",
    "        Здійснює прогноз за допомогою моделі PNN.\n",
    "\n",
    "        Parameters:\n",
    "        - X_train (numpy.ndarray): Масив навчальних даних.\n",
    "        - X_test (numpy.ndarray): Масив тестових даних.\n",
    "        - y (numpy.ndarray): Вектор міток класів для навчальних даних.\n",
    "        - sigma (float): Параметр розподілу Гаусса для визначення ширини ядра.\n",
    "\n",
    "        Returns:\n",
    "        - numpy.ndarray: Вектор прогнозованих класів.\n",
    "        \"\"\"\n",
    "        self.mean_vectors = []\n",
    "\n",
    "        # Обчислюємо середні вектори для кожного класу\n",
    "        for class_label in range(self.output_size):\n",
    "            class_samples = X_train[y == class_label]\n",
    "            mean_vector = np.mean(class_samples, axis=0)\n",
    "            self.mean_vectors.append(mean_vector)\n",
    "\n",
    "        self.mean_vectors = np.array(self.mean_vectors)\n",
    "\n",
    "        # Обчислюємо ваги для кожного класу\n",
    "        self.weights = np.ones(self.output_size) / self.output_size\n",
    "        predictions = []\n",
    "\n",
    "        for sample in X_test:\n",
    "            probabilities = []\n",
    "\n",
    "            # Розраховуємо ймовірності для кожного класу\n",
    "            for class_label in range(self.output_size):\n",
    "                mean_vector = self.mean_vectors[class_label]\n",
    "                sample = sample.astype(float)\n",
    "                activation = np.exp(-0.5 * np.sum((sample - mean_vector) ** 2) / (sigma ** 2))\n",
    "                probability = activation * self.weights[class_label]\n",
    "                probabilities.append(probability)\n",
    "\n",
    "            # Визначаємо клас з найвищою ймовірністю\n",
    "            predicted_class = np.argmax(probabilities)\n",
    "            predictions.append(predicted_class)\n",
    "\n",
    "        return np.array(predictions)"
   ]
  },
  {
   "cell_type": "markdown",
   "metadata": {},
   "source": [
    "### Завантажимо датасет NLS-KDD"
   ]
  },
  {
   "cell_type": "code",
   "execution_count": 3,
   "metadata": {},
   "outputs": [
    {
     "name": "stdout",
     "output_type": "stream",
     "text": [
      "Розмір навчального набору: 54569\n",
      "Розмір тестового набору: 23388\n"
     ]
    }
   ],
   "source": [
    "train_data = pd.read_csv('KDDTrain+.txt')\n",
    "test_data = pd.read_csv('KDDTest+.txt')\n",
    "\n",
    "columns = (['duration','protocol_type','service','flag','src_bytes','dst_bytes','land','wrong_fragment','urgent','hot',\n",
    "            'num_failed_logins','logged_in','num_compromised','root_shell','su_attempted','num_root',\n",
    "            'num_file_creations','num_shells','num_access_files','num_outbound_cmds','is_host_login','is_guest_login',\n",
    "            'count','srv_count','serror_rate','srv_serror_rate','rerror_rate','srv_rerror_rate','same_srv_rate',\n",
    "            'diff_srv_rate','srv_diff_host_rate','dst_host_count','dst_host_srv_count','dst_host_same_srv_rate',\n",
    "            'dst_host_diff_srv_rate','dst_host_same_src_port_rate','dst_host_srv_diff_host_rate','dst_host_serror_rate',\n",
    "            'dst_host_srv_serror_rate','dst_host_rerror_rate','dst_host_srv_rerror_rate','attack','level'])\n",
    "\n",
    "train_data.columns = columns\n",
    "test_data.columns = columns\n",
    "\n",
    "# Поєднання двох датафреймів\n",
    "combined_data = pd.concat([train_data, test_data], axis=0)\n",
    "\n",
    "# Розділення за типом атаки\n",
    "attack_data = combined_data[combined_data['attack'] == 'teardrop']\n",
    "normal_data = combined_data[combined_data['attack'] == 'normal']\n",
    "\n",
    "# Розбиття на навчальний та тестовий набір\n",
    "train_attack, test_attack = train_test_split(attack_data, test_size=0.3, random_state=42)\n",
    "train_normal, test_normal = train_test_split(normal_data, test_size=0.3, random_state=42)\n",
    "\n",
    "# Об'єднання навчальних та тестових наборів\n",
    "train_data = pd.concat([train_attack, train_normal], axis=0)\n",
    "test_data = pd.concat([test_attack, test_normal], axis=0)\n",
    "\n",
    "# Виведення розмірів навчального та тестового наборів\n",
    "print(f'Розмір навчального набору: {train_data.shape[0]}')\n",
    "print(f'Розмір тестового набору: {test_data.shape[0]}')"
   ]
  },
  {
   "cell_type": "markdown",
   "metadata": {},
   "source": [
    "### Подивимось скільки шуканих атак у наборах даних"
   ]
  },
  {
   "cell_type": "code",
   "execution_count": 4,
   "metadata": {},
   "outputs": [
    {
     "name": "stdout",
     "output_type": "stream",
     "text": [
      "Записів із 'teardrop' у навчальному наборі: 632\n",
      "Записів із 'normal' у навчальному наборі: 53937\n",
      "\n",
      "Записів із 'teardrop' у тестовому наборі: 272\n",
      "Записів із 'normal' у тестовому наборі: 23116\n"
     ]
    }
   ],
   "source": [
    "count_train_teardrop = (train_data['attack'] == 'teardrop').sum()\n",
    "count_train_normal = (train_data['attack'] == 'normal').sum()\n",
    "count_test_teardrop = (test_data['attack'] == 'teardrop').sum()\n",
    "count_test_normal = (test_data['attack'] == 'normal').sum()\n",
    "\n",
    "print(f\"Записів із 'teardrop' у навчальному наборі: {count_train_teardrop}\")\n",
    "print(f\"Записів із 'normal' у навчальному наборі: {count_train_normal}\\n\")\n",
    "print(f\"Записів із 'teardrop' у тестовому наборі: {count_test_teardrop}\")\n",
    "print(f\"Записів із 'normal' у тестовому наборі: {count_test_normal}\")"
   ]
  },
  {
   "cell_type": "markdown",
   "metadata": {},
   "source": [
    "### Лишаємо записи, де тип атаки 'teardrop' , 'normal'"
   ]
  },
  {
   "cell_type": "code",
   "execution_count": 5,
   "metadata": {},
   "outputs": [],
   "source": [
    "train_data = train_data[(train_data['attack'] == 'teardrop') | (train_data['attack'] == 'normal')]\n",
    "test_data  = test_data[ (test_data['attack']  == 'teardrop') | (test_data['attack']  == 'normal')]"
   ]
  },
  {
   "cell_type": "markdown",
   "metadata": {},
   "source": [
    "### Подивимось типи кожної колонки"
   ]
  },
  {
   "cell_type": "code",
   "execution_count": 6,
   "metadata": {},
   "outputs": [
    {
     "data": {
      "text/plain": [
       "duration                         int64\n",
       "protocol_type                   object\n",
       "service                         object\n",
       "flag                            object\n",
       "src_bytes                        int64\n",
       "dst_bytes                        int64\n",
       "land                             int64\n",
       "wrong_fragment                   int64\n",
       "urgent                           int64\n",
       "hot                              int64\n",
       "num_failed_logins                int64\n",
       "logged_in                        int64\n",
       "num_compromised                  int64\n",
       "root_shell                       int64\n",
       "su_attempted                     int64\n",
       "num_root                         int64\n",
       "num_file_creations               int64\n",
       "num_shells                       int64\n",
       "num_access_files                 int64\n",
       "num_outbound_cmds                int64\n",
       "is_host_login                    int64\n",
       "is_guest_login                   int64\n",
       "count                            int64\n",
       "srv_count                        int64\n",
       "serror_rate                    float64\n",
       "srv_serror_rate                float64\n",
       "rerror_rate                    float64\n",
       "srv_rerror_rate                float64\n",
       "same_srv_rate                  float64\n",
       "diff_srv_rate                  float64\n",
       "srv_diff_host_rate             float64\n",
       "dst_host_count                   int64\n",
       "dst_host_srv_count               int64\n",
       "dst_host_same_srv_rate         float64\n",
       "dst_host_diff_srv_rate         float64\n",
       "dst_host_same_src_port_rate    float64\n",
       "dst_host_srv_diff_host_rate    float64\n",
       "dst_host_serror_rate           float64\n",
       "dst_host_srv_serror_rate       float64\n",
       "dst_host_rerror_rate           float64\n",
       "dst_host_srv_rerror_rate       float64\n",
       "attack                          object\n",
       "level                            int64\n",
       "dtype: object"
      ]
     },
     "execution_count": 6,
     "metadata": {},
     "output_type": "execute_result"
    }
   ],
   "source": [
    "train_data.dtypes  #  датафрейм test_data містить такі самі колонки та типи"
   ]
  },
  {
   "cell_type": "markdown",
   "metadata": {},
   "source": [
    "### Колонка 'attack' - це колонка міток, її треба перекодувати"
   ]
  },
  {
   "cell_type": "markdown",
   "metadata": {},
   "source": [
    "### Перекодуємо категорійні значення"
   ]
  },
  {
   "cell_type": "code",
   "execution_count": 7,
   "metadata": {},
   "outputs": [],
   "source": [
    "# Використання one-hot encoding для категорійних змінних\n",
    "filtered_train_data = pd.get_dummies(train_data, drop_first=True)\n",
    "filtered_test_data  = pd.get_dummies(test_data,  drop_first=True)"
   ]
  },
  {
   "cell_type": "markdown",
   "metadata": {},
   "source": [
    "### Подивимось розмірності наборів даних\n",
    "Після перекодування категорійних даних можуть виникати зайві колонки  \n",
    "Подивимось чи у нашому випадку такі будуть"
   ]
  },
  {
   "cell_type": "code",
   "execution_count": 8,
   "metadata": {},
   "outputs": [
    {
     "name": "stdout",
     "output_type": "stream",
     "text": [
      "Колонок у навчальному наборі: 78\n",
      "Колонок у тестовому наборі: 77\n",
      "Кількість спільних колонок: 76\n",
      "\n",
      "Унікальні колонки в навчальному наборі: {'flag_RSTOS0', 'service_link'}\n",
      "Унікальні колонки в тестовому наборі: {'service_remote_job'}\n"
     ]
    }
   ],
   "source": [
    "print(f'Колонок у навчальному наборі: {filtered_train_data.shape[1]}')\n",
    "print(f'Колонок у тестовому наборі: {filtered_test_data.shape[1]}')\n",
    "\n",
    "# Отримання назв колонок для обох датафреймів\n",
    "columns_train = set(filtered_train_data.columns)\n",
    "columns_test = set(filtered_test_data.columns)\n",
    "common_columns = columns_train.intersection(columns_test)  # Знаходження спільних назв колонок\n",
    "print('Кількість спільних колонок:', len(common_columns))\n",
    "\n",
    "# Знаходження унікальних колонок у кожному датафреймі\n",
    "unique_columns_train = columns_train.difference(columns_test)\n",
    "unique_columns_test = columns_test.difference(columns_train)\n",
    "\n",
    "# Виведення назв унікальних колонок у кожному датафреймі\n",
    "print(f'\\nУнікальні колонки в навчальному наборі: {unique_columns_train}')\n",
    "print(f'Унікальні колонки в тестовому наборі: {unique_columns_test}')"
   ]
  },
  {
   "cell_type": "markdown",
   "metadata": {},
   "source": [
    "### Отже, назви та кількість не співпадають\n",
    "Тепер подивимось кількість цих даних"
   ]
  },
  {
   "cell_type": "code",
   "execution_count": 9,
   "metadata": {},
   "outputs": [
    {
     "name": "stdout",
     "output_type": "stream",
     "text": [
      "Кількість входжень 'link' у навчальному наборі: 1\n",
      "Кількість входжень 'RSTOS0' у навчальному наборі: 1\n",
      "Кількість входжень 'remote_job' у тестовому наборі: 1\n"
     ]
    }
   ],
   "source": [
    "service_link = (train_data['service'] == 'link').sum()\n",
    "flag_RSTOS0 = (train_data['flag'] == 'RSTOS0').sum()\n",
    "service_remote_job = (test_data['service'] == 'remote_job').sum()\n",
    "\n",
    "print(f\"Кількість входжень 'link' у навчальному наборі: {service_link}\")\n",
    "print(f\"Кількість входжень 'RSTOS0' у навчальному наборі: {flag_RSTOS0}\")\n",
    "print(f\"Кількість входжень 'remote_job' у тестовому наборі: {service_remote_job}\")"
   ]
  },
  {
   "cell_type": "markdown",
   "metadata": {},
   "source": [
    "### Видаляємо дані"
   ]
  },
  {
   "cell_type": "code",
   "execution_count": 10,
   "metadata": {},
   "outputs": [],
   "source": [
    "train_data = train_data[(train_data['service'] != 'link') & (train_data['flag'] != 'RSTOS0')]\n",
    "test_data = test_data[(test_data['service'] != 'remote_job')]"
   ]
  },
  {
   "cell_type": "markdown",
   "metadata": {},
   "source": [
    "### Знову перекодуємо дані та подивимость кількість спільних назв серед колонок"
   ]
  },
  {
   "cell_type": "code",
   "execution_count": 11,
   "metadata": {},
   "outputs": [
    {
     "name": "stdout",
     "output_type": "stream",
     "text": [
      "Колонок у навчальному наборі: 76\n",
      "Колонок у тестовому наборі: 76\n",
      "Кількість спільних колонок: 76\n"
     ]
    }
   ],
   "source": [
    "filtered_train_data = pd.get_dummies(train_data, drop_first=True)\n",
    "filtered_test_data  = pd.get_dummies(test_data,  drop_first=True)\n",
    "\n",
    "print(f'Колонок у навчальному наборі: {filtered_train_data.shape[1]}')\n",
    "print(f'Колонок у тестовому наборі: {filtered_test_data.shape[1]}')\n",
    "\n",
    "# Отримання назв колонок для обох датафреймів\n",
    "columns_train = set(filtered_train_data.columns)\n",
    "columns_test = set(filtered_test_data.columns)\n",
    "\n",
    "common_columns = columns_train.intersection(columns_test)  # Знаходження спільних назв колонок\n",
    "print('Кількість спільних колонок:', len(common_columns))"
   ]
  },
  {
   "cell_type": "markdown",
   "metadata": {},
   "source": [
    "### Тепер обидва датафрейми мають однакові назви колонок"
   ]
  },
  {
   "cell_type": "markdown",
   "metadata": {},
   "source": [
    "### Після перекодування колонка 'attack' має назву 'attack_teardrop'"
   ]
  },
  {
   "cell_type": "code",
   "execution_count": 12,
   "metadata": {},
   "outputs": [
    {
     "name": "stdout",
     "output_type": "stream",
     "text": [
      "attack_teardrop\n"
     ]
    }
   ],
   "source": [
    "print(filtered_test_data.columns[-1])"
   ]
  },
  {
   "cell_type": "markdown",
   "metadata": {},
   "source": [
    "### Нормалізація даних"
   ]
  },
  {
   "cell_type": "code",
   "execution_count": 13,
   "metadata": {},
   "outputs": [],
   "source": [
    "scaler = MinMaxScaler()\n",
    "\n",
    "new_columns = filtered_train_data.columns\n",
    "\n",
    "filtered_train_data[new_columns] = scaler.fit_transform(filtered_train_data[new_columns])\n",
    "filtered_test_data[new_columns] = scaler.transform(filtered_test_data[new_columns])"
   ]
  },
  {
   "cell_type": "markdown",
   "metadata": {},
   "source": [
    "### Розбиття на X_train, X_test, y_train, y_test"
   ]
  },
  {
   "cell_type": "code",
   "execution_count": 14,
   "metadata": {},
   "outputs": [],
   "source": [
    "X_train = filtered_train_data.drop(columns=['attack_teardrop'])\n",
    "y_train = filtered_train_data['attack_teardrop']\n",
    "\n",
    "X_test = filtered_test_data.drop(columns=['attack_teardrop'])\n",
    "y_test = filtered_test_data['attack_teardrop']"
   ]
  },
  {
   "cell_type": "markdown",
   "metadata": {},
   "source": [
    "### Створимо об'єкт класу PNN із вхідними параметрами:  \n",
    "- input_size=76\n",
    "- output_size=2"
   ]
  },
  {
   "cell_type": "code",
   "execution_count": 15,
   "metadata": {},
   "outputs": [],
   "source": [
    "input_size = filtered_train_data.shape[1]\n",
    "output_size = 2  # розмірність вихідного шару (два класи)\n",
    "\n",
    "pnn = PNN(input_size, output_size)"
   ]
  },
  {
   "cell_type": "markdown",
   "metadata": {},
   "source": [
    "### Тестування моделі"
   ]
  },
  {
   "cell_type": "code",
   "execution_count": 16,
   "metadata": {},
   "outputs": [],
   "source": [
    "sigma_value = 0.03\n",
    "# sigma_value = 1.0\n",
    "predictions = pnn.predict(X_train, X_test.values, y_train, sigma_value)"
   ]
  },
  {
   "cell_type": "markdown",
   "metadata": {},
   "source": [
    "### Оцінка моделі"
   ]
  },
  {
   "cell_type": "code",
   "execution_count": 17,
   "metadata": {},
   "outputs": [
    {
     "name": "stdout",
     "output_type": "stream",
     "text": [
      "Accuracy (Точність) : 99.86317 %\n",
      "Precision (Точність) : 92.85714 %\n",
      "Recall (Повнота) : 95.58824 %\n",
      "F1 Score (F-міра) : 94.2029 %\n"
     ]
    }
   ],
   "source": [
    "accuracy = accuracy_score(y_test, predictions)\n",
    "precision = precision_score(y_test, predictions)\n",
    "recall = recall_score(y_test, predictions)\n",
    "f1 = f1_score(y_test, predictions)\n",
    "\n",
    "print(f\"Accuracy (Точність) : {round(accuracy * 100, 5)} %\")\n",
    "print(f\"Precision (Точність) : {round(precision * 100, 5)} %\")\n",
    "print(f\"Recall (Повнота) : {round(recall * 100, 5)} %\")\n",
    "print(f\"F1 Score (F-міра) : {round(f1 * 100, 5)} %\")"
   ]
  },
  {
   "cell_type": "markdown",
   "metadata": {},
   "source": [
    "### Побудуємо PR-криву\n"
   ]
  },
  {
   "cell_type": "code",
   "execution_count": 18,
   "metadata": {},
   "outputs": [
    {
     "data": {
      "image/png": "[encoded data removed]",
      "text/plain": [
       "<Figure size 640x480 with 1 Axes>"
      ]
     },
     "metadata": {},
     "output_type": "display_data"
    }
   ],
   "source": [
    "precision, recall, _ = precision_recall_curve(y_test, predictions)\n",
    "average_precision = average_precision_score(y_test, predictions)\n",
    "\n",
    "plt.figure()\n",
    "plt.step(recall, precision, color='purple')\n",
    "plt.xlabel('Recall')\n",
    "plt.ylabel('Precision')\n",
    "plt.title('Precision-Recall Curve (AP={:.2f})'.format(average_precision))\n",
    "plt.grid()\n",
    "plt.show()\n"
   ]
  },
  {
   "cell_type": "markdown",
   "metadata": {},
   "source": [
    "### Побудуємо матрицю помилок із результатами дослідження"
   ]
  },
  {
   "cell_type": "code",
   "execution_count": 19,
   "metadata": {},
   "outputs": [
    {
     "data": {
      "image/png": "[encoded data removed]",
      "text/plain": [
       "<Figure size 640x480 with 2 Axes>"
      ]
     },
     "metadata": {},
     "output_type": "display_data"
    }
   ],
   "source": [
    "cm = confusion_matrix(y_test, predictions)\n",
    "sns.heatmap(cm, annot=True, fmt=\"d\", cmap=\"Purples\",\n",
    "            xticklabels=['normal', 'attack_teardrop'],\n",
    "            yticklabels=['normal', 'attack_teardrop'])\n",
    "plt.show()"
   ]
  }
 ],
 "metadata": {
  "kernelspec": {
   "display_name": ".venv",
   "language": "python",
   "name": "python3"
  },
  "language_info": {
   "codemirror_mode": {
    "name": "ipython",
    "version": 3
   },
   "file_extension": ".py",
   "mimetype": "text/x-python",
   "name": "python",
   "nbconvert_exporter": "python",
   "pygments_lexer": "ipython3",
   "version": "3.11.3"
  }
 },
 "nbformat": 4,
 "nbformat_minor": 2
}

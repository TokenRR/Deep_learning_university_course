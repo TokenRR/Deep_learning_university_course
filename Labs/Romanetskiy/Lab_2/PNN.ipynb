{
 "cells": [
  {
   "cell_type": "markdown",
   "metadata": {},
   "source": [
    "# КМ-01 | Романецький Микита | PNN"
   ]
  },
  {
   "cell_type": "markdown",
   "metadata": {},
   "source": [
    "## Завдання\n",
    "Розробити програмне забезпечення для реалізації мережі PNN, що призначена для апроксимації функції: $у = х_1 + х_2$  \n",
    "Передбачити режими навчання та розпізнавання.\n"
   ]
  },
  {
   "cell_type": "code",
   "execution_count": 1,
   "metadata": {},
   "outputs": [],
   "source": [
    "import numpy as np\n",
    "import pandas as pd\n",
    "from typing import List, Dict, Optional"
   ]
  },
  {
   "cell_type": "code",
   "execution_count": 2,
   "metadata": {},
   "outputs": [],
   "source": [
    "def train_pnn(X_train: np.ndarray,\n",
    "              Y_train: List[str],\n",
    "              delta: float = 1.0) -> Dict[str, float]:\n",
    "    \"\"\"\n",
    "    Фунція навчить імовірнісну нейронну мережу (PNN) за навчальними даними.\n",
    "\n",
    "    Аргументи:\n",
    "        - X_train (numpy.ndarray):  Характеристики навчальних даних.\n",
    "        - Y_train (numpy.ndarray):  Відповідні мітки класів.\n",
    "        - delta (float):            Гіперпараметр для керування чутливістю до точок даних.\n",
    "\n",
    "    Повертає значення:\n",
    "        dict:                       Словник, що містить ймовірності класів.\n",
    "    \"\"\"\n",
    "    class_probs = {}  #  Ініціалізувати порожній словник для зберігання ймовірностей класів\n",
    "    \n",
    "    #  У циклі перебираємо навчальні дані та мітки\n",
    "    for x, class_label in zip(X_train, Y_train):\n",
    "        if class_label not in class_probs:  #  Якщо мітка класу відсутня у словнику, ініціалізуйте її значенням 0.0\n",
    "            class_probs[class_label] = 0.0\n",
    "        \"\"\"Обчислюємо ймовірності класів за формулою ядра Гауса. Ядро Гауса вимірює схожість між точками даних.\n",
    "        Воно базується на евклідовій відстані між X_train та х, зваженій на дельту\"\"\"\n",
    "        class_probs[class_label] += np.exp(-np.sum((X_train - x) ** 2, axis=1) / (2 * delta ** 2))\n",
    "\n",
    "    return class_probs\n",
    "\n",
    "\n",
    "def predict_pnn(class_probs: Dict[str, float],\n",
    "                X_predict: np.ndarray,\n",
    "                X_train: np.ndarray,\n",
    "                delta: float = 1.0) -> Optional[str]:\n",
    "    \"\"\"\n",
    "    Функція передбачає клас для заданої точки даних за допомогою навченого PNN.\n",
    "\n",
    "    Аргументи:\n",
    "        - class_probs (dict):             Словник ймовірностей класів, отриманий у результаті навчання.  \n",
    "        - X_predict (numpy.ndarray):      Точка даних для розпізнавання.  \n",
    "        - X_train (numpy.ndarray):        Характеристики навчальних даних.\n",
    "        - delta (float):                  Гіперпараметр для керування чутливістю до точок даних.  \n",
    "\n",
    "    Повертається:\n",
    "        str:                              Розпізнана мітка класу. (Може повернути None)  \n",
    "    \"\"\"\n",
    "    max_prob = 0  #  Ініціалізувуємо максимальну ймовірність рівну 0\n",
    "    predicted_class = None  #  Ініціалізувуємо розпізнаний клас значенням None\n",
    "\n",
    "    for class_label, prob in class_probs.items():    \n",
    "        \"\"\"У циклі обчислюємо схожість між X_train та X_predict за формулою ядра Гауса\n",
    "        Ядро Гауса базується на евклідовій відстані між X_train та X_predict, зваженій на дельту.\"\"\"\n",
    "        similarity = np.exp(-np.sum((X_train - X_predict) ** 2, axis=1) / (2 * delta ** 2))\n",
    "        class_probs[class_label] += similarity\n",
    "\n",
    "        if np.max(prob) > max_prob:  #  Порівняєм максимальне значення імовірності\n",
    "            max_prob = np.max(prob)\n",
    "            predicted_class = class_label\n",
    "\n",
    "    return predicted_class\n"
   ]
  },
  {
   "cell_type": "markdown",
   "metadata": {},
   "source": [
    "#### Визначаємо навчальні дані"
   ]
  },
  {
   "cell_type": "code",
   "execution_count": 3,
   "metadata": {},
   "outputs": [],
   "source": [
    "X_train = np.array([[100, 300], [200, 100], [5.0, 1.0], [300, 200], [8.0, 1.0], [6.0, 6.0]])\n",
    "Y_train = np.array(['A', 'A', 'B', 'A', 'B', 'B'])"
   ]
  },
  {
   "cell_type": "markdown",
   "metadata": {},
   "source": [
    "#### Налаштувуємо гіперпараметр для бажаної точності\n",
    "Чим менше дельта, тим більше модель приділяє увагу невеликим відмінностям між даними"
   ]
  },
  {
   "cell_type": "code",
   "execution_count": 4,
   "metadata": {},
   "outputs": [],
   "source": [
    "delta = 250.0"
   ]
  },
  {
   "cell_type": "markdown",
   "metadata": {},
   "source": [
    "#### Тренуємо модель на навчальних даних"
   ]
  },
  {
   "cell_type": "code",
   "execution_count": 5,
   "metadata": {},
   "outputs": [],
   "source": [
    "class_probs = train_pnn(X_train, Y_train, delta)"
   ]
  },
  {
   "cell_type": "markdown",
   "metadata": {},
   "source": [
    "#### Визначаємо дані, які потрібно розпізнати"
   ]
  },
  {
   "cell_type": "code",
   "execution_count": 6,
   "metadata": {},
   "outputs": [],
   "source": [
    "X_predict = np.array([3.0, 1.2])"
   ]
  },
  {
   "cell_type": "markdown",
   "metadata": {},
   "source": [
    "#### Розпізнаємо клас введених даних"
   ]
  },
  {
   "cell_type": "code",
   "execution_count": 7,
   "metadata": {},
   "outputs": [
    {
     "name": "stdout",
     "output_type": "stream",
     "text": [
      "Data [3.0, 1.2] | Predicted class: B\n"
     ]
    }
   ],
   "source": [
    "predicted_class = predict_pnn(class_probs, X_predict, X_train, delta)\n",
    "\n",
    "print(f'Data {X_predict.tolist()} | Predicted class: {predicted_class}')"
   ]
  },
  {
   "cell_type": "markdown",
   "metadata": {},
   "source": [
    "#### Тестування програми\n"
   ]
  },
  {
   "cell_type": "code",
   "execution_count": 8,
   "metadata": {},
   "outputs": [
    {
     "name": "stdout",
     "output_type": "stream",
     "text": [
      "         Data Predicted class\n",
      "0  [150, 350]               B\n",
      "1  [250, 150]               A\n",
      "2  [5.5, 1.5]               B\n",
      "3  [350, 250]               A\n",
      "4  [8.5, 1.5]               A\n",
      "5  [6.5, 6.5]               B\n",
      "6  [150, 250]               A\n",
      "7  [3.5, 4.5]               B\n",
      "8  [2.5, 3.5]               B\n"
     ]
    }
   ],
   "source": [
    "class_probs = train_pnn(X_train, Y_train, delta)\n",
    "x_t = [[150, 350], [250, 150], [5.5, 1.5], [350, 250], [8.5, 1.5], [6.5, 6.5], [150, 250], [3.5, 4.5], [2.5, 3.5]]\n",
    "\n",
    "results_df = pd.DataFrame(columns=[\"Data\", \"Predicted class\"])\n",
    "\n",
    "for x in x_t:\n",
    "    x = np.array(x)\n",
    "    pred_cl = predict_pnn(class_probs, x, X_train, delta)\n",
    "    results_df = pd.concat([results_df, pd.DataFrame({\"Data\": [x.tolist()], \"Predicted class\": [pred_cl]})],\n",
    "                           ignore_index=True)\n",
    "\n",
    "print(results_df)"
   ]
  },
  {
   "cell_type": "markdown",
   "metadata": {},
   "source": [
    "## Висновки\n",
    "Як бачимо, розпізнавання класів працює добре, із 9 варіантів модель помилилась у двох:  \n",
    "- [150, 350] predicted class B  \n",
    "- [8.5, 1.5] predicted class A  \n",
    "\n",
    "**Примітка: трицифрові числа класс А, двоцифрові класс B**\n",
    "\n",
    "Тобто точність моделі на даний момент дорівнює $7/9$  \n",
    "\n",
    "Але варто зауважити, що це не є реальною точністю, оскільки варто зробити навчальну та тестувальну вибірку більшими,   \n",
    "а гіперпараметр дельта налаштувати для цієї задачі (Можливо перебрати кроссвалідацією)"
   ]
  }
 ],
 "metadata": {
  "kernelspec": {
   "display_name": ".venv",
   "language": "python",
   "name": "python3"
  },
  "language_info": {
   "codemirror_mode": {
    "name": "ipython",
    "version": 3
   },
   "file_extension": ".py",
   "mimetype": "text/x-python",
   "name": "python",
   "nbconvert_exporter": "python",
   "pygments_lexer": "ipython3",
   "version": "3.11.3"
  }
 },
 "nbformat": 4,
 "nbformat_minor": 2
}

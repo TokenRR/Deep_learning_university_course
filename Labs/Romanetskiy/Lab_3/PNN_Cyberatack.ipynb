{
 "cells": [
  {
   "cell_type": "markdown",
   "metadata": {},
   "source": [
    "# КМ-01 | Романецький Микита | PNN Cyberatack"
   ]
  },
  {
   "cell_type": "markdown",
   "metadata": {},
   "source": [
    "### Імпортуємо бібліотеки"
   ]
  },
  {
   "cell_type": "code",
   "execution_count": 1,
   "metadata": {},
   "outputs": [],
   "source": [
    "import time\n",
    "import numpy as np\n",
    "import pandas as pd\n",
    "import seaborn as sns\n",
    "import matplotlib.pyplot as plt\n",
    "from sklearn.preprocessing import MinMaxScaler\n",
    "from sklearn.metrics import accuracy_score, precision_score, recall_score, f1_score, roc_curve, auc, confusion_matrix"
   ]
  },
  {
   "cell_type": "markdown",
   "metadata": {},
   "source": [
    "### Завантажимо датасет NSL-KDD"
   ]
  },
  {
   "cell_type": "code",
   "execution_count": 2,
   "metadata": {},
   "outputs": [],
   "source": [
    "start_timer = time.time()\n",
    "train_data = pd.read_csv('dataset\\KDDTrain+.txt')\n",
    "test_data = pd.read_csv('dataset\\KDDTest+.txt')"
   ]
  },
  {
   "cell_type": "markdown",
   "metadata": {},
   "source": [
    "### Даємо назви колонкам у датафреймі"
   ]
  },
  {
   "cell_type": "code",
   "execution_count": 3,
   "metadata": {},
   "outputs": [],
   "source": [
    "columns = (['duration','protocol_type','service','flag','src_bytes','dst_bytes','land','wrong_fragment','urgent','hot',\n",
    "            'num_failed_logins','logged_in','num_compromised','root_shell','su_attempted','num_root',\n",
    "            'num_file_creations','num_shells','num_access_files','num_outbound_cmds','is_host_login','is_guest_login',\n",
    "            'count','srv_count','serror_rate','srv_serror_rate','rerror_rate','srv_rerror_rate','same_srv_rate',\n",
    "            'diff_srv_rate','srv_diff_host_rate','dst_host_count','dst_host_srv_count','dst_host_same_srv_rate',\n",
    "            'dst_host_diff_srv_rate','dst_host_same_src_port_rate','dst_host_srv_diff_host_rate','dst_host_serror_rate',\n",
    "            'dst_host_srv_serror_rate','dst_host_rerror_rate','dst_host_srv_rerror_rate','attack','level'])\n",
    "\n",
    "train_data.columns = columns\n",
    "test_data.columns = columns"
   ]
  },
  {
   "cell_type": "markdown",
   "metadata": {},
   "source": [
    "### Перевіримо кількість записів які містять тип атаки 'rootkit' або 'normal'"
   ]
  },
  {
   "cell_type": "code",
   "execution_count": 4,
   "metadata": {},
   "outputs": [
    {
     "name": "stdout",
     "output_type": "stream",
     "text": [
      "Кількість записів у датасеті 'train_data': 125972\n",
      "Кількість записів у датасеті 'test_data' : 22543\n",
      "\n",
      "Кількість входжень 'rootkit' у 'train_data': 10\n",
      "Кількість входжень 'rootkit' у 'test_data':  13\n",
      "Кількість входжень 'normal'  у 'train_data': 67342\n",
      "Кількість входжень 'normal'  у 'test_data':  9711\n"
     ]
    }
   ],
   "source": [
    "def check_rootkit_normal():\n",
    "    count_train_rootkit = (train_data['attack'] == 'rootkit').sum()\n",
    "    count_test_rootkit = (test_data['attack'] == 'rootkit').sum()\n",
    "    count_train_normal = (train_data['attack'] == 'normal').sum()\n",
    "    count_test_normal = (test_data['attack'] == 'normal').sum()\n",
    "\n",
    "    print(f'Кількість записів у датасеті \\'train_data\\': {train_data.shape[0]}')\n",
    "    print(f'Кількість записів у датасеті \\'test_data\\' : {test_data.shape[0]}\\n')\n",
    "\n",
    "    print(f\"Кількість входжень 'rootkit' у 'train_data': {count_train_rootkit}\")\n",
    "    print(f\"Кількість входжень 'rootkit' у 'test_data':  {count_test_rootkit}\")\n",
    "    print(f\"Кількість входжень 'normal'  у 'train_data': {count_train_normal}\")\n",
    "    print(f\"Кількість входжень 'normal'  у 'test_data':  {count_test_normal}\")\n",
    "\n",
    "check_rootkit_normal()"
   ]
  },
  {
   "cell_type": "markdown",
   "metadata": {},
   "source": [
    "### Прибираємо з датасету всі записи, які не містять 'normal' або 'rootkit'"
   ]
  },
  {
   "cell_type": "code",
   "execution_count": 5,
   "metadata": {},
   "outputs": [],
   "source": [
    "train_data = train_data[(train_data['attack'] == 'rootkit') | (train_data['attack'] == 'normal')]\n",
    "test_data  = test_data[ (test_data['attack']  == 'rootkit') | (test_data['attack']  == 'normal')]\n",
    "\n",
    "# train_data.dtypes\n",
    "# test_data.dtypes"
   ]
  },
  {
   "cell_type": "markdown",
   "metadata": {},
   "source": [
    "### Перекодуємо категорійні значення"
   ]
  },
  {
   "cell_type": "code",
   "execution_count": 6,
   "metadata": {},
   "outputs": [],
   "source": [
    "# Використання one-hot encoding для категорійних змінних\n",
    "filtered_train_data = pd.get_dummies(train_data, drop_first=True)\n",
    "filtered_test_data  = pd.get_dummies(test_data,  drop_first=True)"
   ]
  },
  {
   "cell_type": "markdown",
   "metadata": {},
   "source": [
    "### Перевіримо чи співпадають назви колонок та їх кількість\n",
    "Це важливо оскільки ми передаємо ці значення в нейронну мережу"
   ]
  },
  {
   "cell_type": "code",
   "execution_count": 7,
   "metadata": {},
   "outputs": [
    {
     "name": "stdout",
     "output_type": "stream",
     "text": [
      "Колонок у 'filtered_train_data': 76\n",
      "Колонок у 'filtered_test_data':  70\n",
      "Кількість спільних колонок: 67\n",
      "\n",
      "Унікальні колонки в filtered_train_data: \n",
      "{'flag_REJ', 'service_shell', 'service_domain', 'service_imap4', 'service_urh_i', 'service_ssh', 'flag_SH', 'service_red_i', 'flag_S0'}\n",
      "\n",
      "Унікальні колонки в filtered_test_data: \n",
      "{'service_link', 'service_remote_job', 'flag_RSTOS0'}\n",
      "\n",
      "Отже, назви та кількість не співпадають\n"
     ]
    }
   ],
   "source": [
    "print(f'Колонок у \\'filtered_train_data\\': {filtered_train_data.shape[1]}')\n",
    "print(f'Колонок у \\'filtered_test_data\\':  {filtered_test_data.shape[1]}')\n",
    "\n",
    "# Отримання назв колонок для обох датафреймів\n",
    "columns_train = set(filtered_train_data.columns)\n",
    "columns_test = set(filtered_test_data.columns)\n",
    "\n",
    "# Знаходження спільних назв колонок\n",
    "common_columns = columns_train.intersection(columns_test)\n",
    "\n",
    "# Виведення назв та кількості спільних колонок\n",
    "print('Кількість спільних колонок:', len(common_columns))\n",
    "\n",
    "# Знаходження унікальних колонок у кожному датафреймі\n",
    "unique_columns_train = columns_train.difference(columns_test)\n",
    "unique_columns_test = columns_test.difference(columns_train)\n",
    "\n",
    "# Виведення назв унікальних колонок у кожному датафреймі\n",
    "print(f'\\nУнікальні колонки в filtered_train_data: \\n{unique_columns_train}')\n",
    "print(f'\\nУнікальні колонки в filtered_test_data: \\n{unique_columns_test}')\n",
    "print(f'\\nОтже, назви та кількість не співпадають')"
   ]
  },
  {
   "cell_type": "markdown",
   "metadata": {},
   "source": [
    "### Подивимось наскільки багато цих даних і чи можемо ми їх позбутися"
   ]
  },
  {
   "cell_type": "code",
   "execution_count": 8,
   "metadata": {},
   "outputs": [
    {
     "name": "stdout",
     "output_type": "stream",
     "text": [
      "Кількість входжень 'red_i'  у 'train_data': 8\n",
      "Кількість входжень 'ssh'    у 'train_data': 5\n",
      "Кількість входжень 'domain' у 'train_data': 38\n",
      "Кількість входжень 'urh_i'  у 'train_data': 10\n",
      "Кількість входжень 'shell'  у 'train_data': 4\n",
      "Кількість входжень 'imap4'  у 'train_data': 3\n",
      "Кількість входжень 'REJ'    у 'train_data': 2693\n",
      "Кількість входжень 'SH'     у 'train_data': 2\n",
      "Кількість входжень 'S0'     у 'train_data': 354\n",
      "\n",
      "Кількість входжень 'link'   у 'test_data': 1\n",
      "Кількість входжень 'job'    у 'test_data': 1\n",
      "Кількість входжень 'RSTOS0' у 'test_data': 1\n"
     ]
    }
   ],
   "source": [
    "a = (train_data['service'] == 'red_i').sum()\n",
    "b = (train_data['service'] == 'ssh').sum()\n",
    "c = (train_data['service'] == 'domain').sum()\n",
    "d = (train_data['service'] == 'urh_i').sum()\n",
    "e = (train_data['service'] == 'shell').sum()\n",
    "f = (train_data['service'] == 'imap4').sum()\n",
    "\n",
    "fl = (train_data['flag'] == 'REJ').sum()\n",
    "fll = (train_data['flag'] == 'SH').sum()\n",
    "flll = (train_data['flag'] == 'S0').sum()\n",
    "\n",
    "ser1 = (test_data['service'] == 'link').sum()\n",
    "ser2 = (test_data['service'] == 'remote_job').sum()\n",
    "ser3 = (test_data['flag'] == 'RSTOS0').sum()\n",
    "\n",
    "print(f\"Кількість входжень 'red_i'  у 'train_data': {a}\")\n",
    "print(f\"Кількість входжень 'ssh'    у 'train_data': {b}\")\n",
    "print(f\"Кількість входжень 'domain' у 'train_data': {c}\")\n",
    "print(f\"Кількість входжень 'urh_i'  у 'train_data': {d}\")\n",
    "print(f\"Кількість входжень 'shell'  у 'train_data': {e}\")\n",
    "print(f\"Кількість входжень 'imap4'  у 'train_data': {f}\")\n",
    "\n",
    "print(f\"Кількість входжень 'REJ'    у 'train_data': {fl}\")\n",
    "print(f\"Кількість входжень 'SH'     у 'train_data': {fll}\")\n",
    "print(f\"Кількість входжень 'S0'     у 'train_data': {flll}\")\n",
    "\n",
    "print(f\"\\nКількість входжень 'link'   у 'test_data': {ser1}\")\n",
    "print(f\"Кількість входжень 'job'    у 'test_data': {ser2}\")\n",
    "print(f\"Кількість входжень 'RSTOS0' у 'test_data': {ser3}\")"
   ]
  },
  {
   "cell_type": "markdown",
   "metadata": {},
   "source": [
    "### Видаляємо дані\n",
    "Тренувальний датасет містить більше 67 тис. даних, а тестовий датасет 9 тис.  \n",
    "Тому видалення такої кількості даних повинно сильно вплинути на результати досліджень "
   ]
  },
  {
   "cell_type": "code",
   "execution_count": 9,
   "metadata": {},
   "outputs": [],
   "source": [
    "# Видалення записів з умовами у train_data\n",
    "train_data = train_data[(train_data['service'] != 'red_i') &\n",
    "                        (train_data['service'] != 'ssh') &\n",
    "                        (train_data['service'] != 'domain') &\n",
    "                        (train_data['service'] != 'urh_i') &\n",
    "                        (train_data['service'] != 'shell') &\n",
    "                        (train_data['service'] != 'imap4') &\n",
    "                        (train_data['flag'] != 'REJ') &\n",
    "                        (train_data['flag'] != 'SH') &\n",
    "                        (train_data['flag'] != 'S0')]\n",
    "\n",
    "# Видалення записів з умовами у test_data\n",
    "test_data = test_data[(test_data['service'] != 'link') &\n",
    "                      (test_data['service'] != 'remote_job') &\n",
    "                      (test_data['flag'] != 'RSTOS0')]"
   ]
  },
  {
   "cell_type": "markdown",
   "metadata": {},
   "source": [
    "### Перевіримо чи зараз співпадають назви та кількість колонок"
   ]
  },
  {
   "cell_type": "code",
   "execution_count": 10,
   "metadata": {},
   "outputs": [
    {
     "name": "stdout",
     "output_type": "stream",
     "text": [
      "Колонок у 'filtered_train_data': 67\n",
      "Колонок у 'filtered_test_data':  67\n",
      "Кількість спільних колонок: 67\n",
      "\n",
      "Отже назви колонок у датафреймах повністю однакові\n"
     ]
    }
   ],
   "source": [
    "# Використання one-hot encoding для категорійних змінних\n",
    "filtered_train_data = pd.get_dummies(train_data, drop_first=True)\n",
    "filtered_test_data  = pd.get_dummies(test_data,  drop_first=True)\n",
    "\n",
    "print(f'Колонок у \\'filtered_train_data\\': {filtered_train_data.shape[1]}')\n",
    "print(f'Колонок у \\'filtered_test_data\\':  {filtered_test_data.shape[1]}')\n",
    "\n",
    "# Отримання назв колонок для обох датафреймів\n",
    "columns_train = set(filtered_train_data.columns)\n",
    "columns_test = set(filtered_test_data.columns)\n",
    "\n",
    "# Знаходження спільних назв колонок\n",
    "common_columns = columns_train.intersection(columns_test)\n",
    "\n",
    "# Виведення назв та кількості спільних колонок\n",
    "print('Кількість спільних колонок:', len(common_columns))\n",
    "print('\\nОтже назви колонок у датафреймах повністю однакові')"
   ]
  },
  {
   "cell_type": "markdown",
   "metadata": {},
   "source": [
    "### Для коректної роботи НМ треба нормалізувати дані"
   ]
  },
  {
   "cell_type": "code",
   "execution_count": 11,
   "metadata": {},
   "outputs": [],
   "source": [
    "scaler = MinMaxScaler()\n",
    "\n",
    "new_columns = filtered_train_data.columns\n",
    "\n",
    "filtered_train_data[new_columns] = scaler.fit_transform(filtered_train_data[new_columns])\n",
    "filtered_test_data[new_columns] = scaler.transform(filtered_test_data[new_columns])"
   ]
  },
  {
   "cell_type": "markdown",
   "metadata": {},
   "source": [
    "### Створюємо клас ймовірнісної нейронної мережі (PNN)"
   ]
  },
  {
   "cell_type": "code",
   "execution_count": 12,
   "metadata": {},
   "outputs": [],
   "source": [
    "class PNN:\n",
    "    def __init__(self, input_size, output_size):\n",
    "        self.input_size = input_size\n",
    "        self.output_size = output_size\n",
    "        self.mean_vectors = None\n",
    "        self.sigma = None\n",
    "        self.weights = None\n",
    "\n",
    "\n",
    "    def train(self, X, y, sigma=1.0):\n",
    "        self.mean_vectors = []\n",
    "        self.sigma = sigma\n",
    "\n",
    "        # Обчислюємо середні вектори для кожного класу\n",
    "        for class_label in range(self.output_size):\n",
    "            class_samples = X[y == class_label]\n",
    "            mean_vector = np.mean(class_samples, axis=0)\n",
    "            self.mean_vectors.append(mean_vector)\n",
    "\n",
    "        self.mean_vectors = np.array(self.mean_vectors)\n",
    "\n",
    "        # Обчислюємо ваги для кожного класу\n",
    "        self.weights = np.ones(self.output_size) / self.output_size\n",
    "\n",
    "\n",
    "    def predict(self, X):\n",
    "        predictions = []\n",
    "\n",
    "        for sample in X:\n",
    "            probabilities = []\n",
    "\n",
    "            # Розраховуємо ймовірності для кожного класу\n",
    "            for class_label in range(self.output_size):\n",
    "                mean_vector = self.mean_vectors[class_label]\n",
    "                sample = sample.astype(float)\n",
    "                activation = np.exp(-0.5 * np.sum((sample - mean_vector) ** 2) / (self.sigma ** 2))\n",
    "                probability = activation * self.weights[class_label]\n",
    "                probabilities.append(probability)\n",
    "\n",
    "            # Визначаємо клас з найвищою ймовірністю\n",
    "            predicted_class = np.argmax(probabilities)\n",
    "            predictions.append(predicted_class)\n",
    "\n",
    "        return np.array(predictions)"
   ]
  },
  {
   "cell_type": "markdown",
   "metadata": {},
   "source": [
    "### Розділимо датафрейми `filtered_train_data` та `filtered_test_data` на X_train, X_test, y_train, y_test"
   ]
  },
  {
   "cell_type": "code",
   "execution_count": 13,
   "metadata": {},
   "outputs": [],
   "source": [
    "X_train = filtered_train_data.drop(columns=['attack_rootkit'])\n",
    "y_train = filtered_train_data['attack_rootkit']\n",
    "\n",
    "X_test = filtered_test_data.drop(columns=['attack_rootkit'])\n",
    "y_test = filtered_test_data['attack_rootkit']"
   ]
  },
  {
   "cell_type": "markdown",
   "metadata": {},
   "source": [
    "### Ініціалізуємо модель PNN"
   ]
  },
  {
   "cell_type": "code",
   "execution_count": 14,
   "metadata": {},
   "outputs": [],
   "source": [
    "input_size = train_data.shape[1]\n",
    "output_size = 2  # розмірність вихідного шару (два класи: rootkit та normal)\n",
    "\n",
    "pnn = PNN(input_size, output_size)"
   ]
  },
  {
   "cell_type": "markdown",
   "metadata": {},
   "source": [
    "### Навчання PNN"
   ]
  },
  {
   "cell_type": "code",
   "execution_count": 15,
   "metadata": {},
   "outputs": [],
   "source": [
    "pnn.train(X_train, y_train, sigma=0.077)"
   ]
  },
  {
   "cell_type": "markdown",
   "metadata": {},
   "source": [
    "### Використання PNN"
   ]
  },
  {
   "cell_type": "code",
   "execution_count": 16,
   "metadata": {},
   "outputs": [],
   "source": [
    "predictions = pnn.predict(X_test.values)"
   ]
  },
  {
   "cell_type": "markdown",
   "metadata": {},
   "source": [
    "### Знайдемо метрики, щоб зрозуміти наскільки хороших результатів було досягнуто"
   ]
  },
  {
   "cell_type": "code",
   "execution_count": 17,
   "metadata": {},
   "outputs": [
    {
     "name": "stdout",
     "output_type": "stream",
     "text": [
      "Accuracy (Точність) : 93.22086 %\n",
      "Precision (Точність): 1.93452 %\n",
      "Recall (Повнота)    : 100.0 %\n",
      "F1 Score (F-міра)   : 3.79562 %\n"
     ]
    }
   ],
   "source": [
    "y_true = y_test\n",
    "accuracy = accuracy_score(y_true, predictions)\n",
    "precision = precision_score(y_true, predictions)\n",
    "recall = recall_score(y_true, predictions)\n",
    "f1 = f1_score(y_true, predictions)\n",
    "\n",
    "print(f\"Accuracy (Точність) : {round(accuracy * 100, 5)} %\")\n",
    "print(f\"Precision (Точність): {round(precision * 100, 5)} %\")\n",
    "print(f\"Recall (Повнота)    : {round(recall * 100, 5)} %\")\n",
    "print(f\"F1 Score (F-міра)   : {round(f1 * 100, 5)} %\")"
   ]
  },
  {
   "cell_type": "markdown",
   "metadata": {},
   "source": [
    "### Побудуємо гістограму з результатами дослідження"
   ]
  },
  {
   "cell_type": "code",
   "execution_count": 18,
   "metadata": {},
   "outputs": [
    {
     "data": {
      "image/png": "[encoded data removed]",
      "text/plain": [
       "<Figure size 640x480 with 1 Axes>"
      ]
     },
     "metadata": {},
     "output_type": "display_data"
    }
   ],
   "source": [
    "cord = [0.1, 0.6]\n",
    "for i, value in zip(cord, plt.hist(predictions, bins=2, width=0.2)[0]):\n",
    "    plt.text(i, value + 0.1, str(int(value)), ha='center', va='bottom')\n",
    "plt.title('Гістограма прогнозування кібератаки типу \\'rootkit\\'\\n')\n",
    "plt.ylabel('Кількість')\n",
    "plt.xticks([0.1, 0.6], ['normal', 'rootkit'])\n",
    "plt.xlim(0, 0.8)\n",
    "plt.grid(axis='y',c='black')\n",
    "plt.show()\n"
   ]
  },
  {
   "cell_type": "markdown",
   "metadata": {},
   "source": [
    "### Побудуємо теплову карту з результатами дослідження"
   ]
  },
  {
   "cell_type": "code",
   "execution_count": 19,
   "metadata": {},
   "outputs": [
    {
     "data": {
      "image/png": "[encoded data removed]",
      "text/plain": [
       "<Figure size 640x480 with 2 Axes>"
      ]
     },
     "metadata": {},
     "output_type": "display_data"
    }
   ],
   "source": [
    "cm = confusion_matrix(y_true, predictions)\n",
    "sns.heatmap(cm, annot=True, fmt=\"d\", cmap=\"Blues\")\n",
    "plt.title('Теплова карта прогнозування кібератаки типу \\'rootkit\\'\\n')\n",
    "plt.xlabel(\"Predicted Label\")\n",
    "plt.ylabel(\"True Label\")\n",
    "plt.show()"
   ]
  },
  {
   "cell_type": "markdown",
   "metadata": {},
   "source": [
    "### Побудуємо ROC-криву з результатами дослідження"
   ]
  },
  {
   "cell_type": "code",
   "execution_count": 20,
   "metadata": {},
   "outputs": [
    {
     "data": {
      "image/png": "[encoded data removed]",
      "text/plain": [
       "<Figure size 800x600 with 1 Axes>"
      ]
     },
     "metadata": {},
     "output_type": "display_data"
    }
   ],
   "source": [
    "fpr, tpr, _ = roc_curve(y_true, predictions)\n",
    "roc_auc = auc(fpr, tpr)\n",
    "\n",
    "plt.figure(figsize=(8, 6))\n",
    "plt.plot(fpr, tpr, color='royalblue', lw=2, label='ROC curve (area = {:.2f})'.format(roc_auc))\n",
    "plt.plot([0, 1], [0, 1], color='navy', lw=2, linestyle='--')\n",
    "plt.xlabel('False Positive Rate')\n",
    "plt.ylabel('True Positive Rate')\n",
    "plt.title('ROC-крива прогнозування кібератаки типу \\'rootkit\\'\\n')\n",
    "plt.legend(loc='lower right')\n",
    "plt.grid(c='#E7E8D2')\n",
    "plt.show()"
   ]
  },
  {
   "cell_type": "markdown",
   "metadata": {},
   "source": [
    "### Характеристика системи та часові витрати на роботу програми"
   ]
  },
  {
   "cell_type": "code",
   "execution_count": 21,
   "metadata": {},
   "outputs": [
    {
     "name": "stdout",
     "output_type": "stream",
     "text": [
      "Час роботи програми: 6.3 секунд\n",
      "\n",
      "Процесор:   AMD Ryzen 5 3550H with Radeon Vega\n",
      "ОЗП:        8.00 ГБ\n",
      "ОС:         Windows 10 Pro\n"
     ]
    }
   ],
   "source": [
    "print(f'Час роботи програми: {round(time.time() - start_timer, 1)} секунд\\n')\n",
    "print(f'Процесор:   AMD Ryzen 5 3550H with Radeon Vega')\n",
    "print(f'ОЗП:        8.00 ГБ')\n",
    "print(f'ОС:         Windows 10 Pro')"
   ]
  }
 ],
 "metadata": {
  "kernelspec": {
   "display_name": ".venv",
   "language": "python",
   "name": "python3"
  },
  "language_info": {
   "codemirror_mode": {
    "name": "ipython",
    "version": 3
   },
   "file_extension": ".py",
   "mimetype": "text/x-python",
   "name": "python",
   "nbconvert_exporter": "python",
   "pygments_lexer": "ipython3",
   "version": "3.11.3"
  }
 },
 "nbformat": 4,
 "nbformat_minor": 2
}
